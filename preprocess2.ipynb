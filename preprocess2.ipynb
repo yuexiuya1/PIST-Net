{
 "cells": [
  {
   "cell_type": "code",
   "execution_count": 1,
   "id": "8f698d9c",
   "metadata": {},
   "outputs": [],
   "source": [
    "import pandas as pd\n",
    "import csv\n",
    "import time\n",
    "from astroquery.sdss import SDSS\n",
    "import astropy.units as u\n",
    "from astropy.coordinates import SkyCoord\n",
    "\n",
    "# 读取CSV文件\n",
    "starid = pd.read_csv('DR11中所有的在权威星表里的中分辨率红巨星.csv')\n",
    "ra=starid['ra']\n",
    "dec = starid['dec']\n",
    "ids=starid['obsid']\n"
   ]
  },
  {
   "cell_type": "code",
   "execution_count": 4,
   "id": "66ebf220",
   "metadata": {},
   "outputs": [
    {
     "name": "stdout",
     "output_type": "stream",
     "text": [
      "No SDSS data found for star 14407211\n",
      "No SDSS data found for star 55108179\n"
     ]
    },
    {
     "ename": "ProxyError",
     "evalue": "HTTPSConnectionPool(host='skyserver.sdss.org', port=443): Max retries exceeded with url: /dr17/en/tools/search/X_Results.aspx (Caused by ProxyError('Unable to connect to proxy', RemoteDisconnected('Remote end closed connection without response')))",
     "output_type": "error",
     "traceback": [
      "\u001b[1;31m---------------------------------------------------------------------------\u001b[0m",
      "\u001b[1;31mRemoteDisconnected\u001b[0m                        Traceback (most recent call last)",
      "File \u001b[1;32m~\\.conda\\envs\\test\\lib\\site-packages\\urllib3\\connectionpool.py:793\u001b[0m, in \u001b[0;36mHTTPConnectionPool.urlopen\u001b[1;34m(self, method, url, body, headers, retries, redirect, assert_same_host, timeout, pool_timeout, release_conn, chunked, body_pos, preload_content, decode_content, **response_kw)\u001b[0m\n\u001b[0;32m    792\u001b[0m \u001b[38;5;66;03m# Make the request on the HTTPConnection object\u001b[39;00m\n\u001b[1;32m--> 793\u001b[0m response \u001b[38;5;241m=\u001b[39m \u001b[38;5;28mself\u001b[39m\u001b[38;5;241m.\u001b[39m_make_request(\n\u001b[0;32m    794\u001b[0m     conn,\n\u001b[0;32m    795\u001b[0m     method,\n\u001b[0;32m    796\u001b[0m     url,\n\u001b[0;32m    797\u001b[0m     timeout\u001b[38;5;241m=\u001b[39mtimeout_obj,\n\u001b[0;32m    798\u001b[0m     body\u001b[38;5;241m=\u001b[39mbody,\n\u001b[0;32m    799\u001b[0m     headers\u001b[38;5;241m=\u001b[39mheaders,\n\u001b[0;32m    800\u001b[0m     chunked\u001b[38;5;241m=\u001b[39mchunked,\n\u001b[0;32m    801\u001b[0m     retries\u001b[38;5;241m=\u001b[39mretries,\n\u001b[0;32m    802\u001b[0m     response_conn\u001b[38;5;241m=\u001b[39mresponse_conn,\n\u001b[0;32m    803\u001b[0m     preload_content\u001b[38;5;241m=\u001b[39mpreload_content,\n\u001b[0;32m    804\u001b[0m     decode_content\u001b[38;5;241m=\u001b[39mdecode_content,\n\u001b[0;32m    805\u001b[0m     \u001b[38;5;241m*\u001b[39m\u001b[38;5;241m*\u001b[39mresponse_kw,\n\u001b[0;32m    806\u001b[0m )\n\u001b[0;32m    808\u001b[0m \u001b[38;5;66;03m# Everything went great!\u001b[39;00m\n",
      "File \u001b[1;32m~\\.conda\\envs\\test\\lib\\site-packages\\urllib3\\connectionpool.py:537\u001b[0m, in \u001b[0;36mHTTPConnectionPool._make_request\u001b[1;34m(self, conn, method, url, body, headers, retries, timeout, chunked, response_conn, preload_content, decode_content, enforce_content_length)\u001b[0m\n\u001b[0;32m    536\u001b[0m \u001b[38;5;28;01mtry\u001b[39;00m:\n\u001b[1;32m--> 537\u001b[0m     response \u001b[38;5;241m=\u001b[39m \u001b[43mconn\u001b[49m\u001b[38;5;241;43m.\u001b[39;49m\u001b[43mgetresponse\u001b[49m\u001b[43m(\u001b[49m\u001b[43m)\u001b[49m\n\u001b[0;32m    538\u001b[0m \u001b[38;5;28;01mexcept\u001b[39;00m (BaseSSLError, \u001b[38;5;167;01mOSError\u001b[39;00m) \u001b[38;5;28;01mas\u001b[39;00m e:\n",
      "File \u001b[1;32m~\\.conda\\envs\\test\\lib\\site-packages\\urllib3\\connection.py:466\u001b[0m, in \u001b[0;36mHTTPConnection.getresponse\u001b[1;34m(self)\u001b[0m\n\u001b[0;32m    465\u001b[0m \u001b[38;5;66;03m# Get the response from http.client.HTTPConnection\u001b[39;00m\n\u001b[1;32m--> 466\u001b[0m httplib_response \u001b[38;5;241m=\u001b[39m \u001b[38;5;28;43msuper\u001b[39;49m\u001b[43m(\u001b[49m\u001b[43m)\u001b[49m\u001b[38;5;241;43m.\u001b[39;49m\u001b[43mgetresponse\u001b[49m\u001b[43m(\u001b[49m\u001b[43m)\u001b[49m\n\u001b[0;32m    468\u001b[0m \u001b[38;5;28;01mtry\u001b[39;00m:\n",
      "File \u001b[1;32m~\\.conda\\envs\\test\\lib\\http\\client.py:1375\u001b[0m, in \u001b[0;36mHTTPConnection.getresponse\u001b[1;34m(self)\u001b[0m\n\u001b[0;32m   1374\u001b[0m \u001b[38;5;28;01mtry\u001b[39;00m:\n\u001b[1;32m-> 1375\u001b[0m     \u001b[43mresponse\u001b[49m\u001b[38;5;241;43m.\u001b[39;49m\u001b[43mbegin\u001b[49m\u001b[43m(\u001b[49m\u001b[43m)\u001b[49m\n\u001b[0;32m   1376\u001b[0m \u001b[38;5;28;01mexcept\u001b[39;00m \u001b[38;5;167;01mConnectionError\u001b[39;00m:\n",
      "File \u001b[1;32m~\\.conda\\envs\\test\\lib\\http\\client.py:318\u001b[0m, in \u001b[0;36mHTTPResponse.begin\u001b[1;34m(self)\u001b[0m\n\u001b[0;32m    317\u001b[0m \u001b[38;5;28;01mwhile\u001b[39;00m \u001b[38;5;28;01mTrue\u001b[39;00m:\n\u001b[1;32m--> 318\u001b[0m     version, status, reason \u001b[38;5;241m=\u001b[39m \u001b[38;5;28;43mself\u001b[39;49m\u001b[38;5;241;43m.\u001b[39;49m\u001b[43m_read_status\u001b[49m\u001b[43m(\u001b[49m\u001b[43m)\u001b[49m\n\u001b[0;32m    319\u001b[0m     \u001b[38;5;28;01mif\u001b[39;00m status \u001b[38;5;241m!=\u001b[39m CONTINUE:\n",
      "File \u001b[1;32m~\\.conda\\envs\\test\\lib\\http\\client.py:287\u001b[0m, in \u001b[0;36mHTTPResponse._read_status\u001b[1;34m(self)\u001b[0m\n\u001b[0;32m    284\u001b[0m \u001b[38;5;28;01mif\u001b[39;00m \u001b[38;5;129;01mnot\u001b[39;00m line:\n\u001b[0;32m    285\u001b[0m     \u001b[38;5;66;03m# Presumably, the server closed the connection before\u001b[39;00m\n\u001b[0;32m    286\u001b[0m     \u001b[38;5;66;03m# sending a valid response.\u001b[39;00m\n\u001b[1;32m--> 287\u001b[0m     \u001b[38;5;28;01mraise\u001b[39;00m RemoteDisconnected(\u001b[38;5;124m\"\u001b[39m\u001b[38;5;124mRemote end closed connection without\u001b[39m\u001b[38;5;124m\"\u001b[39m\n\u001b[0;32m    288\u001b[0m                              \u001b[38;5;124m\"\u001b[39m\u001b[38;5;124m response\u001b[39m\u001b[38;5;124m\"\u001b[39m)\n\u001b[0;32m    289\u001b[0m \u001b[38;5;28;01mtry\u001b[39;00m:\n",
      "\u001b[1;31mRemoteDisconnected\u001b[0m: Remote end closed connection without response",
      "\nThe above exception was the direct cause of the following exception:\n",
      "\u001b[1;31mProxyError\u001b[0m                                Traceback (most recent call last)",
      "\u001b[1;31mProxyError\u001b[0m: ('Unable to connect to proxy', RemoteDisconnected('Remote end closed connection without response'))",
      "\nThe above exception was the direct cause of the following exception:\n",
      "\u001b[1;31mMaxRetryError\u001b[0m                             Traceback (most recent call last)",
      "File \u001b[1;32m~\\.conda\\envs\\test\\lib\\site-packages\\requests\\adapters.py:486\u001b[0m, in \u001b[0;36mHTTPAdapter.send\u001b[1;34m(self, request, stream, timeout, verify, cert, proxies)\u001b[0m\n\u001b[0;32m    485\u001b[0m \u001b[38;5;28;01mtry\u001b[39;00m:\n\u001b[1;32m--> 486\u001b[0m     resp \u001b[38;5;241m=\u001b[39m \u001b[43mconn\u001b[49m\u001b[38;5;241;43m.\u001b[39;49m\u001b[43murlopen\u001b[49m\u001b[43m(\u001b[49m\n\u001b[0;32m    487\u001b[0m \u001b[43m        \u001b[49m\u001b[43mmethod\u001b[49m\u001b[38;5;241;43m=\u001b[39;49m\u001b[43mrequest\u001b[49m\u001b[38;5;241;43m.\u001b[39;49m\u001b[43mmethod\u001b[49m\u001b[43m,\u001b[49m\n\u001b[0;32m    488\u001b[0m \u001b[43m        \u001b[49m\u001b[43murl\u001b[49m\u001b[38;5;241;43m=\u001b[39;49m\u001b[43murl\u001b[49m\u001b[43m,\u001b[49m\n\u001b[0;32m    489\u001b[0m \u001b[43m        \u001b[49m\u001b[43mbody\u001b[49m\u001b[38;5;241;43m=\u001b[39;49m\u001b[43mrequest\u001b[49m\u001b[38;5;241;43m.\u001b[39;49m\u001b[43mbody\u001b[49m\u001b[43m,\u001b[49m\n\u001b[0;32m    490\u001b[0m \u001b[43m        \u001b[49m\u001b[43mheaders\u001b[49m\u001b[38;5;241;43m=\u001b[39;49m\u001b[43mrequest\u001b[49m\u001b[38;5;241;43m.\u001b[39;49m\u001b[43mheaders\u001b[49m\u001b[43m,\u001b[49m\n\u001b[0;32m    491\u001b[0m \u001b[43m        \u001b[49m\u001b[43mredirect\u001b[49m\u001b[38;5;241;43m=\u001b[39;49m\u001b[38;5;28;43;01mFalse\u001b[39;49;00m\u001b[43m,\u001b[49m\n\u001b[0;32m    492\u001b[0m \u001b[43m        \u001b[49m\u001b[43massert_same_host\u001b[49m\u001b[38;5;241;43m=\u001b[39;49m\u001b[38;5;28;43;01mFalse\u001b[39;49;00m\u001b[43m,\u001b[49m\n\u001b[0;32m    493\u001b[0m \u001b[43m        \u001b[49m\u001b[43mpreload_content\u001b[49m\u001b[38;5;241;43m=\u001b[39;49m\u001b[38;5;28;43;01mFalse\u001b[39;49;00m\u001b[43m,\u001b[49m\n\u001b[0;32m    494\u001b[0m \u001b[43m        \u001b[49m\u001b[43mdecode_content\u001b[49m\u001b[38;5;241;43m=\u001b[39;49m\u001b[38;5;28;43;01mFalse\u001b[39;49;00m\u001b[43m,\u001b[49m\n\u001b[0;32m    495\u001b[0m \u001b[43m        \u001b[49m\u001b[43mretries\u001b[49m\u001b[38;5;241;43m=\u001b[39;49m\u001b[38;5;28;43mself\u001b[39;49m\u001b[38;5;241;43m.\u001b[39;49m\u001b[43mmax_retries\u001b[49m\u001b[43m,\u001b[49m\n\u001b[0;32m    496\u001b[0m \u001b[43m        \u001b[49m\u001b[43mtimeout\u001b[49m\u001b[38;5;241;43m=\u001b[39;49m\u001b[43mtimeout\u001b[49m\u001b[43m,\u001b[49m\n\u001b[0;32m    497\u001b[0m \u001b[43m        \u001b[49m\u001b[43mchunked\u001b[49m\u001b[38;5;241;43m=\u001b[39;49m\u001b[43mchunked\u001b[49m\u001b[43m,\u001b[49m\n\u001b[0;32m    498\u001b[0m \u001b[43m    \u001b[49m\u001b[43m)\u001b[49m\n\u001b[0;32m    500\u001b[0m \u001b[38;5;28;01mexcept\u001b[39;00m (ProtocolError, \u001b[38;5;167;01mOSError\u001b[39;00m) \u001b[38;5;28;01mas\u001b[39;00m err:\n",
      "File \u001b[1;32m~\\.conda\\envs\\test\\lib\\site-packages\\urllib3\\connectionpool.py:847\u001b[0m, in \u001b[0;36mHTTPConnectionPool.urlopen\u001b[1;34m(self, method, url, body, headers, retries, redirect, assert_same_host, timeout, pool_timeout, release_conn, chunked, body_pos, preload_content, decode_content, **response_kw)\u001b[0m\n\u001b[0;32m    845\u001b[0m     new_e \u001b[38;5;241m=\u001b[39m ProtocolError(\u001b[38;5;124m\"\u001b[39m\u001b[38;5;124mConnection aborted.\u001b[39m\u001b[38;5;124m\"\u001b[39m, new_e)\n\u001b[1;32m--> 847\u001b[0m retries \u001b[38;5;241m=\u001b[39m \u001b[43mretries\u001b[49m\u001b[38;5;241;43m.\u001b[39;49m\u001b[43mincrement\u001b[49m\u001b[43m(\u001b[49m\n\u001b[0;32m    848\u001b[0m \u001b[43m    \u001b[49m\u001b[43mmethod\u001b[49m\u001b[43m,\u001b[49m\u001b[43m \u001b[49m\u001b[43murl\u001b[49m\u001b[43m,\u001b[49m\u001b[43m \u001b[49m\u001b[43merror\u001b[49m\u001b[38;5;241;43m=\u001b[39;49m\u001b[43mnew_e\u001b[49m\u001b[43m,\u001b[49m\u001b[43m \u001b[49m\u001b[43m_pool\u001b[49m\u001b[38;5;241;43m=\u001b[39;49m\u001b[38;5;28;43mself\u001b[39;49m\u001b[43m,\u001b[49m\u001b[43m \u001b[49m\u001b[43m_stacktrace\u001b[49m\u001b[38;5;241;43m=\u001b[39;49m\u001b[43msys\u001b[49m\u001b[38;5;241;43m.\u001b[39;49m\u001b[43mexc_info\u001b[49m\u001b[43m(\u001b[49m\u001b[43m)\u001b[49m\u001b[43m[\u001b[49m\u001b[38;5;241;43m2\u001b[39;49m\u001b[43m]\u001b[49m\n\u001b[0;32m    849\u001b[0m \u001b[43m\u001b[49m\u001b[43m)\u001b[49m\n\u001b[0;32m    850\u001b[0m retries\u001b[38;5;241m.\u001b[39msleep()\n",
      "File \u001b[1;32m~\\.conda\\envs\\test\\lib\\site-packages\\urllib3\\util\\retry.py:515\u001b[0m, in \u001b[0;36mRetry.increment\u001b[1;34m(self, method, url, response, error, _pool, _stacktrace)\u001b[0m\n\u001b[0;32m    514\u001b[0m     reason \u001b[38;5;241m=\u001b[39m error \u001b[38;5;129;01mor\u001b[39;00m ResponseError(cause)\n\u001b[1;32m--> 515\u001b[0m     \u001b[38;5;28;01mraise\u001b[39;00m MaxRetryError(_pool, url, reason) \u001b[38;5;28;01mfrom\u001b[39;00m \u001b[38;5;21;01mreason\u001b[39;00m  \u001b[38;5;66;03m# type: ignore[arg-type]\u001b[39;00m\n\u001b[0;32m    517\u001b[0m log\u001b[38;5;241m.\u001b[39mdebug(\u001b[38;5;124m\"\u001b[39m\u001b[38;5;124mIncremented Retry for (url=\u001b[39m\u001b[38;5;124m'\u001b[39m\u001b[38;5;132;01m%s\u001b[39;00m\u001b[38;5;124m'\u001b[39m\u001b[38;5;124m): \u001b[39m\u001b[38;5;132;01m%r\u001b[39;00m\u001b[38;5;124m\"\u001b[39m, url, new_retry)\n",
      "\u001b[1;31mMaxRetryError\u001b[0m: HTTPSConnectionPool(host='skyserver.sdss.org', port=443): Max retries exceeded with url: /dr17/en/tools/search/X_Results.aspx (Caused by ProxyError('Unable to connect to proxy', RemoteDisconnected('Remote end closed connection without response')))",
      "\nDuring handling of the above exception, another exception occurred:\n",
      "\u001b[1;31mProxyError\u001b[0m                                Traceback (most recent call last)",
      "Cell \u001b[1;32mIn[4], line 7\u001b[0m\n\u001b[0;32m      5\u001b[0m \u001b[38;5;66;03m# 查询SDSS图像数据\u001b[39;00m\n\u001b[0;32m      6\u001b[0m co \u001b[38;5;241m=\u001b[39m SkyCoord(ra\u001b[38;5;241m=\u001b[39mra[i], dec\u001b[38;5;241m=\u001b[39mdec[i], unit\u001b[38;5;241m=\u001b[39m(u\u001b[38;5;241m.\u001b[39mdeg, u\u001b[38;5;241m.\u001b[39mdeg), frame\u001b[38;5;241m=\u001b[39m\u001b[38;5;124m'\u001b[39m\u001b[38;5;124micrs\u001b[39m\u001b[38;5;124m'\u001b[39m)\n\u001b[1;32m----> 7\u001b[0m result \u001b[38;5;241m=\u001b[39m \u001b[43mSDSS\u001b[49m\u001b[38;5;241;43m.\u001b[39;49m\u001b[43mquery_region\u001b[49m\u001b[43m(\u001b[49m\u001b[43mco\u001b[49m\u001b[43m,\u001b[49m\u001b[43m \u001b[49m\u001b[43mradius\u001b[49m\u001b[38;5;241;43m=\u001b[39;49m\u001b[38;5;241;43m2\u001b[39;49m\u001b[38;5;241;43m*\u001b[39;49m\u001b[43mu\u001b[49m\u001b[38;5;241;43m.\u001b[39;49m\u001b[43marcsec\u001b[49m\u001b[43m)\u001b[49m\n\u001b[0;32m      8\u001b[0m \u001b[38;5;28;01mif\u001b[39;00m result \u001b[38;5;129;01mis\u001b[39;00m \u001b[38;5;28;01mNone\u001b[39;00m \u001b[38;5;129;01mor\u001b[39;00m \u001b[38;5;28mlen\u001b[39m(result) \u001b[38;5;241m==\u001b[39m \u001b[38;5;241m0\u001b[39m:\n\u001b[0;32m      9\u001b[0m     \u001b[38;5;28mprint\u001b[39m(\u001b[38;5;124mf\u001b[39m\u001b[38;5;124m\"\u001b[39m\u001b[38;5;124mNo SDSS data found for star \u001b[39m\u001b[38;5;124m\"\u001b[39m\u001b[38;5;241m+\u001b[39m\u001b[38;5;28mstr\u001b[39m(ids[i]))\n",
      "File \u001b[1;32m~\\.conda\\envs\\test\\lib\\site-packages\\astroquery\\utils\\class_or_instance.py:25\u001b[0m, in \u001b[0;36mclass_or_instance.__get__.<locals>.f\u001b[1;34m(*args, **kwds)\u001b[0m\n\u001b[0;32m     23\u001b[0m \u001b[38;5;28;01mdef\u001b[39;00m \u001b[38;5;21mf\u001b[39m(\u001b[38;5;241m*\u001b[39margs, \u001b[38;5;241m*\u001b[39m\u001b[38;5;241m*\u001b[39mkwds):\n\u001b[0;32m     24\u001b[0m     \u001b[38;5;28;01mif\u001b[39;00m obj \u001b[38;5;129;01mis\u001b[39;00m \u001b[38;5;129;01mnot\u001b[39;00m \u001b[38;5;28;01mNone\u001b[39;00m:\n\u001b[1;32m---> 25\u001b[0m         \u001b[38;5;28;01mreturn\u001b[39;00m \u001b[38;5;28mself\u001b[39m\u001b[38;5;241m.\u001b[39mfn(obj, \u001b[38;5;241m*\u001b[39margs, \u001b[38;5;241m*\u001b[39m\u001b[38;5;241m*\u001b[39mkwds)\n\u001b[0;32m     26\u001b[0m     \u001b[38;5;28;01melse\u001b[39;00m:\n\u001b[0;32m     27\u001b[0m         \u001b[38;5;28;01mreturn\u001b[39;00m \u001b[38;5;28mself\u001b[39m\u001b[38;5;241m.\u001b[39mfn(\u001b[38;5;28mcls\u001b[39m, \u001b[38;5;241m*\u001b[39margs, \u001b[38;5;241m*\u001b[39m\u001b[38;5;241m*\u001b[39mkwds)\n",
      "File \u001b[1;32m~\\.conda\\envs\\test\\lib\\site-packages\\astroquery\\utils\\process_asyncs.py:26\u001b[0m, in \u001b[0;36masync_to_sync.<locals>.create_method.<locals>.newmethod\u001b[1;34m(self, *args, **kwargs)\u001b[0m\n\u001b[0;32m     22\u001b[0m \u001b[38;5;129m@class_or_instance\u001b[39m\n\u001b[0;32m     23\u001b[0m \u001b[38;5;28;01mdef\u001b[39;00m \u001b[38;5;21mnewmethod\u001b[39m(\u001b[38;5;28mself\u001b[39m, \u001b[38;5;241m*\u001b[39margs, \u001b[38;5;241m*\u001b[39m\u001b[38;5;241m*\u001b[39mkwargs):\n\u001b[0;32m     24\u001b[0m     verbose \u001b[38;5;241m=\u001b[39m kwargs\u001b[38;5;241m.\u001b[39mpop(\u001b[38;5;124m'\u001b[39m\u001b[38;5;124mverbose\u001b[39m\u001b[38;5;124m'\u001b[39m, \u001b[38;5;28;01mFalse\u001b[39;00m)\n\u001b[1;32m---> 26\u001b[0m     response \u001b[38;5;241m=\u001b[39m \u001b[38;5;28mgetattr\u001b[39m(\u001b[38;5;28mself\u001b[39m, async_method_name)(\u001b[38;5;241m*\u001b[39margs, \u001b[38;5;241m*\u001b[39m\u001b[38;5;241m*\u001b[39mkwargs)\n\u001b[0;32m     27\u001b[0m     \u001b[38;5;28;01mif\u001b[39;00m kwargs\u001b[38;5;241m.\u001b[39mget(\u001b[38;5;124m'\u001b[39m\u001b[38;5;124mget_query_payload\u001b[39m\u001b[38;5;124m'\u001b[39m) \u001b[38;5;129;01mor\u001b[39;00m kwargs\u001b[38;5;241m.\u001b[39mget(\u001b[38;5;124m'\u001b[39m\u001b[38;5;124mfield_help\u001b[39m\u001b[38;5;124m'\u001b[39m):\n\u001b[0;32m     28\u001b[0m         \u001b[38;5;28;01mreturn\u001b[39;00m response\n",
      "File \u001b[1;32m~\\.conda\\envs\\test\\lib\\site-packages\\astroquery\\sdss\\core.py:394\u001b[0m, in \u001b[0;36mSDSSClass.query_region_async\u001b[1;34m(self, coordinates, radius, width, height, timeout, fields, photoobj_fields, specobj_fields, obj_names, spectro, field_help, get_query_payload, data_release, cache)\u001b[0m\n\u001b[0;32m    391\u001b[0m     \u001b[38;5;28;01mreturn\u001b[39;00m request_payload\n\u001b[0;32m    393\u001b[0m url \u001b[38;5;241m=\u001b[39m \u001b[38;5;28mself\u001b[39m\u001b[38;5;241m.\u001b[39m_get_crossid_url(data_release)\n\u001b[1;32m--> 394\u001b[0m response \u001b[38;5;241m=\u001b[39m \u001b[38;5;28;43mself\u001b[39;49m\u001b[38;5;241;43m.\u001b[39;49m\u001b[43m_request\u001b[49m\u001b[43m(\u001b[49m\u001b[38;5;124;43m\"\u001b[39;49m\u001b[38;5;124;43mPOST\u001b[39;49m\u001b[38;5;124;43m\"\u001b[39;49m\u001b[43m,\u001b[49m\u001b[43m \u001b[49m\u001b[43murl\u001b[49m\u001b[43m,\u001b[49m\u001b[43m \u001b[49m\u001b[43mdata\u001b[49m\u001b[38;5;241;43m=\u001b[39;49m\u001b[43mrequest_payload\u001b[49m\u001b[43m,\u001b[49m\n\u001b[0;32m    395\u001b[0m \u001b[43m                         \u001b[49m\u001b[43mfiles\u001b[49m\u001b[38;5;241;43m=\u001b[39;49m\u001b[43mfiles\u001b[49m\u001b[43m,\u001b[49m\n\u001b[0;32m    396\u001b[0m \u001b[43m                         \u001b[49m\u001b[43mtimeout\u001b[49m\u001b[38;5;241;43m=\u001b[39;49m\u001b[43mtimeout\u001b[49m\u001b[43m,\u001b[49m\u001b[43m \u001b[49m\u001b[43mcache\u001b[49m\u001b[38;5;241;43m=\u001b[39;49m\u001b[43mcache\u001b[49m\u001b[43m)\u001b[49m\n\u001b[0;32m    397\u001b[0m \u001b[38;5;28;01mreturn\u001b[39;00m response\n",
      "File \u001b[1;32m~\\.conda\\envs\\test\\lib\\site-packages\\astroquery\\query.py:375\u001b[0m, in \u001b[0;36mBaseQuery._request\u001b[1;34m(self, method, url, params, data, headers, files, save, savedir, timeout, cache, stream, auth, continuation, verify, allow_redirects, json, return_response_on_save)\u001b[0m\n\u001b[0;32m    373\u001b[0m     response \u001b[38;5;241m=\u001b[39m query\u001b[38;5;241m.\u001b[39mfrom_cache(\u001b[38;5;28mself\u001b[39m\u001b[38;5;241m.\u001b[39mcache_location, cache_conf\u001b[38;5;241m.\u001b[39mcache_timeout)\n\u001b[0;32m    374\u001b[0m     \u001b[38;5;28;01mif\u001b[39;00m \u001b[38;5;129;01mnot\u001b[39;00m response:\n\u001b[1;32m--> 375\u001b[0m         response \u001b[38;5;241m=\u001b[39m \u001b[43mquery\u001b[49m\u001b[38;5;241;43m.\u001b[39;49m\u001b[43mrequest\u001b[49m\u001b[43m(\u001b[49m\u001b[38;5;28;43mself\u001b[39;49m\u001b[38;5;241;43m.\u001b[39;49m\u001b[43m_session\u001b[49m\u001b[43m,\u001b[49m\n\u001b[0;32m    376\u001b[0m \u001b[43m                                 \u001b[49m\u001b[38;5;28;43mself\u001b[39;49m\u001b[38;5;241;43m.\u001b[39;49m\u001b[43mcache_location\u001b[49m\u001b[43m,\u001b[49m\n\u001b[0;32m    377\u001b[0m \u001b[43m                                 \u001b[49m\u001b[43mstream\u001b[49m\u001b[38;5;241;43m=\u001b[39;49m\u001b[43mstream\u001b[49m\u001b[43m,\u001b[49m\n\u001b[0;32m    378\u001b[0m \u001b[43m                                 \u001b[49m\u001b[43mauth\u001b[49m\u001b[38;5;241;43m=\u001b[39;49m\u001b[43mauth\u001b[49m\u001b[43m,\u001b[49m\n\u001b[0;32m    379\u001b[0m \u001b[43m                                 \u001b[49m\u001b[43mallow_redirects\u001b[49m\u001b[38;5;241;43m=\u001b[39;49m\u001b[43mallow_redirects\u001b[49m\u001b[43m,\u001b[49m\n\u001b[0;32m    380\u001b[0m \u001b[43m                                 \u001b[49m\u001b[43mverify\u001b[49m\u001b[38;5;241;43m=\u001b[39;49m\u001b[43mverify\u001b[49m\u001b[43m,\u001b[49m\n\u001b[0;32m    381\u001b[0m \u001b[43m                                 \u001b[49m\u001b[43mjson\u001b[49m\u001b[38;5;241;43m=\u001b[39;49m\u001b[43mjson\u001b[49m\u001b[43m)\u001b[49m\n\u001b[0;32m    382\u001b[0m         to_cache(response, query\u001b[38;5;241m.\u001b[39mrequest_file(\u001b[38;5;28mself\u001b[39m\u001b[38;5;241m.\u001b[39mcache_location))\n\u001b[0;32m    384\u001b[0m \u001b[38;5;28mself\u001b[39m\u001b[38;5;241m.\u001b[39m_last_query \u001b[38;5;241m=\u001b[39m query\n",
      "File \u001b[1;32m~\\.conda\\envs\\test\\lib\\site-packages\\astroquery\\query.py:77\u001b[0m, in \u001b[0;36mAstroQuery.request\u001b[1;34m(self, session, cache_location, stream, auth, verify, allow_redirects, json)\u001b[0m\n\u001b[0;32m     74\u001b[0m \u001b[38;5;28;01mdef\u001b[39;00m \u001b[38;5;21mrequest\u001b[39m(\u001b[38;5;28mself\u001b[39m, session, cache_location\u001b[38;5;241m=\u001b[39m\u001b[38;5;28;01mNone\u001b[39;00m, stream\u001b[38;5;241m=\u001b[39m\u001b[38;5;28;01mFalse\u001b[39;00m,\n\u001b[0;32m     75\u001b[0m             auth\u001b[38;5;241m=\u001b[39m\u001b[38;5;28;01mNone\u001b[39;00m, verify\u001b[38;5;241m=\u001b[39m\u001b[38;5;28;01mTrue\u001b[39;00m, allow_redirects\u001b[38;5;241m=\u001b[39m\u001b[38;5;28;01mTrue\u001b[39;00m,\n\u001b[0;32m     76\u001b[0m             json\u001b[38;5;241m=\u001b[39m\u001b[38;5;28;01mNone\u001b[39;00m):\n\u001b[1;32m---> 77\u001b[0m     \u001b[38;5;28;01mreturn\u001b[39;00m \u001b[43msession\u001b[49m\u001b[38;5;241;43m.\u001b[39;49m\u001b[43mrequest\u001b[49m\u001b[43m(\u001b[49m\u001b[38;5;28;43mself\u001b[39;49m\u001b[38;5;241;43m.\u001b[39;49m\u001b[43mmethod\u001b[49m\u001b[43m,\u001b[49m\u001b[43m \u001b[49m\u001b[38;5;28;43mself\u001b[39;49m\u001b[38;5;241;43m.\u001b[39;49m\u001b[43murl\u001b[49m\u001b[43m,\u001b[49m\u001b[43m \u001b[49m\u001b[43mparams\u001b[49m\u001b[38;5;241;43m=\u001b[39;49m\u001b[38;5;28;43mself\u001b[39;49m\u001b[38;5;241;43m.\u001b[39;49m\u001b[43mparams\u001b[49m\u001b[43m,\u001b[49m\n\u001b[0;32m     78\u001b[0m \u001b[43m                           \u001b[49m\u001b[43mdata\u001b[49m\u001b[38;5;241;43m=\u001b[39;49m\u001b[38;5;28;43mself\u001b[39;49m\u001b[38;5;241;43m.\u001b[39;49m\u001b[43mdata\u001b[49m\u001b[43m,\u001b[49m\u001b[43m \u001b[49m\u001b[43mheaders\u001b[49m\u001b[38;5;241;43m=\u001b[39;49m\u001b[38;5;28;43mself\u001b[39;49m\u001b[38;5;241;43m.\u001b[39;49m\u001b[43mheaders\u001b[49m\u001b[43m,\u001b[49m\n\u001b[0;32m     79\u001b[0m \u001b[43m                           \u001b[49m\u001b[43mfiles\u001b[49m\u001b[38;5;241;43m=\u001b[39;49m\u001b[38;5;28;43mself\u001b[39;49m\u001b[38;5;241;43m.\u001b[39;49m\u001b[43mfiles\u001b[49m\u001b[43m,\u001b[49m\u001b[43m \u001b[49m\u001b[43mtimeout\u001b[49m\u001b[38;5;241;43m=\u001b[39;49m\u001b[38;5;28;43mself\u001b[39;49m\u001b[38;5;241;43m.\u001b[39;49m\u001b[43mtimeout\u001b[49m\u001b[43m,\u001b[49m\n\u001b[0;32m     80\u001b[0m \u001b[43m                           \u001b[49m\u001b[43mstream\u001b[49m\u001b[38;5;241;43m=\u001b[39;49m\u001b[43mstream\u001b[49m\u001b[43m,\u001b[49m\u001b[43m \u001b[49m\u001b[43mauth\u001b[49m\u001b[38;5;241;43m=\u001b[39;49m\u001b[43mauth\u001b[49m\u001b[43m,\u001b[49m\u001b[43m \u001b[49m\u001b[43mverify\u001b[49m\u001b[38;5;241;43m=\u001b[39;49m\u001b[43mverify\u001b[49m\u001b[43m,\u001b[49m\n\u001b[0;32m     81\u001b[0m \u001b[43m                           \u001b[49m\u001b[43mallow_redirects\u001b[49m\u001b[38;5;241;43m=\u001b[39;49m\u001b[43mallow_redirects\u001b[49m\u001b[43m,\u001b[49m\n\u001b[0;32m     82\u001b[0m \u001b[43m                           \u001b[49m\u001b[43mjson\u001b[49m\u001b[38;5;241;43m=\u001b[39;49m\u001b[43mjson\u001b[49m\u001b[43m)\u001b[49m\n",
      "File \u001b[1;32m~\\.conda\\envs\\test\\lib\\site-packages\\requests\\sessions.py:589\u001b[0m, in \u001b[0;36mSession.request\u001b[1;34m(self, method, url, params, data, headers, cookies, files, auth, timeout, allow_redirects, proxies, hooks, stream, verify, cert, json)\u001b[0m\n\u001b[0;32m    584\u001b[0m send_kwargs \u001b[38;5;241m=\u001b[39m {\n\u001b[0;32m    585\u001b[0m     \u001b[38;5;124m\"\u001b[39m\u001b[38;5;124mtimeout\u001b[39m\u001b[38;5;124m\"\u001b[39m: timeout,\n\u001b[0;32m    586\u001b[0m     \u001b[38;5;124m\"\u001b[39m\u001b[38;5;124mallow_redirects\u001b[39m\u001b[38;5;124m\"\u001b[39m: allow_redirects,\n\u001b[0;32m    587\u001b[0m }\n\u001b[0;32m    588\u001b[0m send_kwargs\u001b[38;5;241m.\u001b[39mupdate(settings)\n\u001b[1;32m--> 589\u001b[0m resp \u001b[38;5;241m=\u001b[39m \u001b[38;5;28mself\u001b[39m\u001b[38;5;241m.\u001b[39msend(prep, \u001b[38;5;241m*\u001b[39m\u001b[38;5;241m*\u001b[39msend_kwargs)\n\u001b[0;32m    591\u001b[0m \u001b[38;5;28;01mreturn\u001b[39;00m resp\n",
      "File \u001b[1;32m~\\.conda\\envs\\test\\lib\\site-packages\\requests\\sessions.py:703\u001b[0m, in \u001b[0;36mSession.send\u001b[1;34m(self, request, **kwargs)\u001b[0m\n\u001b[0;32m    700\u001b[0m start \u001b[38;5;241m=\u001b[39m preferred_clock()\n\u001b[0;32m    702\u001b[0m \u001b[38;5;66;03m# Send the request\u001b[39;00m\n\u001b[1;32m--> 703\u001b[0m r \u001b[38;5;241m=\u001b[39m adapter\u001b[38;5;241m.\u001b[39msend(request, \u001b[38;5;241m*\u001b[39m\u001b[38;5;241m*\u001b[39mkwargs)\n\u001b[0;32m    705\u001b[0m \u001b[38;5;66;03m# Total elapsed time of the request (approximately)\u001b[39;00m\n\u001b[0;32m    706\u001b[0m elapsed \u001b[38;5;241m=\u001b[39m preferred_clock() \u001b[38;5;241m-\u001b[39m start\n",
      "File \u001b[1;32m~\\.conda\\envs\\test\\lib\\site-packages\\requests\\adapters.py:513\u001b[0m, in \u001b[0;36mHTTPAdapter.send\u001b[1;34m(self, request, stream, timeout, verify, cert, proxies)\u001b[0m\n\u001b[0;32m    510\u001b[0m     \u001b[38;5;28;01mraise\u001b[39;00m RetryError(e, request\u001b[38;5;241m=\u001b[39mrequest)\n\u001b[0;32m    512\u001b[0m \u001b[38;5;28;01mif\u001b[39;00m \u001b[38;5;28misinstance\u001b[39m(e\u001b[38;5;241m.\u001b[39mreason, _ProxyError):\n\u001b[1;32m--> 513\u001b[0m     \u001b[38;5;28;01mraise\u001b[39;00m ProxyError(e, request\u001b[38;5;241m=\u001b[39mrequest)\n\u001b[0;32m    515\u001b[0m \u001b[38;5;28;01mif\u001b[39;00m \u001b[38;5;28misinstance\u001b[39m(e\u001b[38;5;241m.\u001b[39mreason, _SSLError):\n\u001b[0;32m    516\u001b[0m     \u001b[38;5;66;03m# This branch is for urllib3 v1.22 and later.\u001b[39;00m\n\u001b[0;32m    517\u001b[0m     \u001b[38;5;28;01mraise\u001b[39;00m SSLError(e, request\u001b[38;5;241m=\u001b[39mrequest)\n",
      "\u001b[1;31mProxyError\u001b[0m: HTTPSConnectionPool(host='skyserver.sdss.org', port=443): Max retries exceeded with url: /dr17/en/tools/search/X_Results.aspx (Caused by ProxyError('Unable to connect to proxy', RemoteDisconnected('Remote end closed connection without response')))"
     ]
    }
   ],
   "source": [
    "# 遍历每个恒星,获取SDSS图像和光谱数据\n",
    "fails=[]\n",
    "for i in range(len(ra)):\n",
    "    time.sleep(0.1)\n",
    "    # 查询SDSS图像数据\n",
    "    co = SkyCoord(ra=ra[i], dec=dec[i], unit=(u.deg, u.deg), frame='icrs')\n",
    "    result = SDSS.query_region(co, radius=2*u.arcsec)\n",
    "    if result is None or len(result) == 0:\n",
    "        print(f\"No SDSS data found for star \"+str(ids[i]))\n",
    "        fails.append(ids[i])\n",
    "        continue\n",
    "              \n",
    "    result_coords = SkyCoord(ra=result['ra']*u.deg, dec=result['dec']*u.deg)\n",
    "    idx_closest = result_coords.separation(co).argmin()\n",
    "    closest_result = result[idx_closest:idx_closest+1]\n",
    "    # 获取成像数据\n",
    "    try:\n",
    "        imgs = SDSS.get_images(matches=closest_result)\n",
    "        img_filename = f\"Picture\\\\{ids[i]}.fits\"\n",
    "        for idx, img in enumerate(imgs):\n",
    "            img.writeto(img_filename, overwrite=True)\n",
    "    except Exception as e:\n",
    "        print(f\"Error getting images for star \"+str(ids[i]))\n",
    "        fails.append(ids[i])\n",
    "print('数据下载完成!')\n"
   ]
  },
  {
   "cell_type": "code",
   "execution_count": 6,
   "id": "f31385e8",
   "metadata": {},
   "outputs": [],
   "source": [
    "import urllib.request\n",
    "import os\n",
    "import requests\n",
    "i=0\n",
    "# 图片链接列表\n",
    "save_dir='midPicture'\n",
    "fails=[]\n",
    "# 遍历图片链接并下载图片\n",
    "for i in range(len(ra)):\n",
    "    time.sleep(1)\n",
    "    url='http://skyserver.sdss.org/dr17/SkyServerWS/ImgCutout/getjpeg?ra='+str(ra[i])+'&dec='+str(dec[i])+'&scale=0.08&height=512&width=512' \n",
    "    response = requests.get(url, stream=True)\n",
    "    if response.status_code!=200:\n",
    "        time.sleep(10)\n",
    "        response = requests.get(url, stream=True)\n",
    "        if response.status_code!=200:\n",
    "            # print('error! '+str(ids[i]))\n",
    "            fails.append(ids[i])\n",
    "            continue\n",
    "    with open(\"midPicture\\\\\"+str(ids[i])+\".jfif\", 'wb') as f:\n",
    "            for chunk in response.iter_content(1024):\n",
    "                f.write(chunk)\n",
    "\n",
    "    \n",
    "    "
   ]
  },
  {
   "cell_type": "code",
   "execution_count": 40,
   "id": "9508018e",
   "metadata": {},
   "outputs": [],
   "source": [
    "\n",
    "# 打开一个CSV文件并写入数据\n",
    "with open('fails.csv', 'w', newline='') as file:\n",
    "    writer = csv.writer(file)\n",
    "    for item in fails:\n",
    "        file.write(str(item) + '\\n')"
   ]
  },
  {
   "cell_type": "code",
   "execution_count": 1,
   "id": "1ffa8dc0",
   "metadata": {},
   "outputs": [],
   "source": [
    "import pandas as pd\n",
    "\n",
    "# 读取原始CSV文件\n",
    "df = pd.read_csv('DR11中所有的在权威星表里的红巨星.csv')\n",
    "\n",
    "# 使用Pandas去重\n",
    "unique_df = df.drop_duplicates(subset='gp_id', keep='first')\n",
    "\n",
    "# 将去重后的数据写入新的CSV文件\n",
    "unique_df.to_csv('DR11中所有的在权威星表里的无重复红巨星.csv', index=False)\n"
   ]
  },
  {
   "cell_type": "code",
   "execution_count": 2,
   "id": "46a08fd5",
   "metadata": {},
   "outputs": [
    {
     "name": "stdout",
     "output_type": "stream",
     "text": [
      "已将1594行数据保存到DR11中所有的在权威星表里的有图片的无重复红巨星.csv文件中。\n"
     ]
    }
   ],
   "source": [
    "import os\n",
    "import pandas as pd\n",
    "\n",
    "# 设置文件路径\n",
    "input_file = 'DR11中所有的在权威星表里的无重复红巨星.csv'\n",
    "image_folder = 'Picture'\n",
    "output_file = 'DR11中所有的在权威星表里的有图片的无重复红巨星.csv'\n",
    "\n",
    "# 读取输入CSV文件\n",
    "df = pd.read_csv(input_file)\n",
    "\n",
    "# 遍历图片文件夹,检查obsid是否存在于文件名中\n",
    "matching_rows = []\n",
    "for filename in os.listdir(image_folder):\n",
    "    if filename.endswith('.jfif'):\n",
    "        for obsid in df['obsid']:\n",
    "            if str(obsid) in filename:\n",
    "                matching_rows.append(df.loc[df['obsid'] == obsid].to_dict('records')[0])\n",
    "                break\n",
    "\n",
    "# 将匹配的行写入输出CSV文件\n",
    "pd.DataFrame(matching_rows).to_csv(output_file, index=False)\n",
    "\n",
    "print(f\"已将{len(matching_rows)}行数据保存到{output_file}文件中。\")\n"
   ]
  },
  {
   "cell_type": "code",
   "execution_count": 2,
   "id": "0bbaa09a",
   "metadata": {},
   "outputs": [
    {
     "name": "stdout",
     "output_type": "stream",
     "text": [
      "所有文件处理完毕！\n"
     ]
    }
   ],
   "source": [
    "import pandas as pd\n",
    "import os\n",
    "from glob import glob\n",
    "\n",
    "# 读取文件路径\n",
    "folder_path = 'midResSpectrum'\n",
    "csv_files = glob(os.path.join(folder_path, '*.csv'))\n",
    "\n",
    "# 创建一个集合来存储所有文件的第一列的并集\n",
    "all_indices = set()\n",
    "\n",
    "# 读取所有CSV文件，取第一列的并集\n",
    "for file in csv_files:\n",
    "    df = pd.read_csv(file, header=None)\n",
    "    all_indices.update(df[0])\n",
    "\n",
    "# 将并集转换为一个有序列表\n",
    "all_indices = sorted(all_indices)\n",
    "\n",
    "# 遍历所有CSV文件，创建新的DataFrame\n",
    "for file in csv_files:\n",
    "    df = pd.read_csv(file, header=None)\n",
    "    file_name = os.path.basename(file)\n",
    "    \n",
    "    # 创建一个新的DataFrame，第一列为并集\n",
    "    new_df = pd.DataFrame({0: all_indices})\n",
    "    \n",
    "    # 设置index为并集中的数值\n",
    "    new_df.set_index(0, inplace=True)\n",
    "    \n",
    "    # 将原始DataFrame设置index为第一列\n",
    "    df.set_index(0, inplace=True)\n",
    "    \n",
    "    # 将原始DataFrame的第二列数据合并到新的DataFrame中，缺失值填充为0\n",
    "    new_df[1] = df[1].reindex(new_df.index, fill_value=0)\n",
    "    \n",
    "    # 重置index\n",
    "    new_df.reset_index(inplace=True)\n",
    "    \n",
    "    # 保存新的DataFrame到同名CSV文件\n",
    "    new_file_path = os.path.join(\"conbinMidResSpectrum\\\\\", file_name)\n",
    "    new_df.to_csv(new_file_path, header=False, index=False)\n",
    "\n",
    "print(\"所有文件处理完毕！\")"
   ]
  },
  {
   "cell_type": "code",
   "execution_count": 15,
   "id": "0c2ac958",
   "metadata": {},
   "outputs": [
    {
     "name": "stdout",
     "output_type": "stream",
     "text": [
      "处理完成！\n"
     ]
    }
   ],
   "source": [
    "import os\n",
    "import pandas as pd\n",
    "\n",
    "# 定义文件夹路径\n",
    "input_folder = 'midResSpectrum'\n",
    "output_folder = 'cutMidResSpectrum'\n",
    "\n",
    "# 创建输出文件夹，如果不存在\n",
    "if not os.path.exists(output_folder):\n",
    "    os.makedirs(output_folder)\n",
    "\n",
    "# 获取所有CSV文件\n",
    "csv_files = [f for f in os.listdir(input_folder) if f.endswith('.csv')]\n",
    "\n",
    "# 定义要提取的范围\n",
    "ranges = [(4960, 5340), (6310, 6790)]\n",
    "lens=[]\n",
    "for file in csv_files:\n",
    "    # 构建完整文件路径\n",
    "    input_path = os.path.join(input_folder, file)\n",
    "    output_path = os.path.join(output_folder, file)\n",
    "\n",
    "    # 读取CSV文件\n",
    "    df = pd.read_csv(input_path, header=None)\n",
    "\n",
    "    # 假设第一列是'col1'，第二列是'col2'\n",
    "    col1 = df.columns[0]\n",
    "    col2 = df.columns[1]\n",
    "\n",
    "    # 过滤数据\n",
    "    filtered_df = df[((df[col1] >= ranges[0][0]) & (df[col1] <= ranges[0][1])) | \n",
    "                     ((df[col1] >= ranges[1][0]) & (df[col1] <= ranges[1][1]))]\n",
    "\n",
    "    # 只保留第二列\n",
    "    result_df = filtered_df[[col2]]\n",
    "\n",
    "    # 保存到新CSV文件\n",
    "    result_df.to_csv(output_path, index=False, header=None)\n",
    "\n",
    "print(\"处理完成！\")"
   ]
  },
  {
   "cell_type": "code",
   "execution_count": 4,
   "id": "58fcb9d9",
   "metadata": {},
   "outputs": [
    {
     "name": "stdout",
     "output_type": "stream",
     "text": [
      "处理完成！\n"
     ]
    }
   ],
   "source": [
    "# 这段是用来把原始光谱文件剪成相同长度的\n",
    "import os\n",
    "import pandas as pd\n",
    "\n",
    "# 定义文件夹路径\n",
    "input_folder = 'lowresSpectrum'\n",
    "output_folder = 'cutLowResSpectrum'\n",
    "\n",
    "# 创建输出文件夹，如果不存在\n",
    "if not os.path.exists(output_folder):\n",
    "    os.makedirs(output_folder)\n",
    "\n",
    "# 获取所有CSV文件\n",
    "csv_files = [f for f in os.listdir(input_folder) if f.endswith('.csv')]\n",
    "\n",
    "# 定义要提取的范围\n",
    "ranges = [3710, 8990]\n",
    "lens=[]\n",
    "for file in csv_files:\n",
    "    # 构建完整文件路径\n",
    "    input_path = os.path.join(input_folder, file)\n",
    "    output_path = os.path.join(output_folder, file)\n",
    "\n",
    "    # 读取CSV文件\n",
    "    df = pd.read_csv(input_path)#, header=None\n",
    "\n",
    "    # 假设第一列是'col1'，第二列是'col2'\n",
    "    col1 = df.columns[0]\n",
    "    col2 = df.columns[1]\n",
    "\n",
    "    # 过滤数据\n",
    "    filtered_df = df[((df[col1] >= ranges[0]) & (df[col1] <= ranges[1]))]\n",
    "\n",
    "    # 只保留第二列\n",
    "    result_df = filtered_df[[col2]]\n",
    "\n",
    "    # 保存到新CSV文件\n",
    "    result_df.to_csv(output_path, index=False, header=None)\n",
    "\n",
    "print(\"处理完成！\")"
   ]
  },
  {
   "cell_type": "code",
   "execution_count": 5,
   "id": "cfaff612",
   "metadata": {},
   "outputs": [
    {
     "name": "stdout",
     "output_type": "stream",
     "text": [
      "处理完成！\n"
     ]
    }
   ],
   "source": [
    "output_folder = 'cutLowResSpectrum'\n",
    "# 获取所有CSV文件\n",
    "csv_files = [f for f in os.listdir(output_folder) if f.endswith('.csv')]\n",
    "\n",
    "\n",
    "fails=[]\n",
    "for file in csv_files:\n",
    "    # 构建完整文件路径\n",
    "\n",
    "    output_path = os.path.join(output_folder, file)\n",
    "\n",
    "    # 读取CSV文件\n",
    "    df = pd.read_csv(output_path, header=None)\n",
    "\n",
    "    col1 = df.columns[0]\n",
    "    if len(df[col1])!=3844:\n",
    "        fails.append(file)\n",
    "\n",
    "\n",
    "print(\"处理完成！\")"
   ]
  },
  {
   "cell_type": "code",
   "execution_count": 6,
   "id": "82f3e4f9",
   "metadata": {},
   "outputs": [
    {
     "data": {
      "text/plain": [
       "['187508202.csv',\n",
       " '200908210.csv',\n",
       " '202808028.csv',\n",
       " '202808058.csv',\n",
       " '202808114.csv',\n",
       " '202808178.csv',\n",
       " '202808186.csv',\n",
       " '202808247.csv',\n",
       " '208508058.csv',\n",
       " '286916146.csv',\n",
       " '48505016.csv',\n",
       " '680005067.csv',\n",
       " '793805012.csv']"
      ]
     },
     "execution_count": 6,
     "metadata": {},
     "output_type": "execute_result"
    }
   ],
   "source": [
    "fails"
   ]
  },
  {
   "cell_type": "code",
   "execution_count": 27,
   "id": "06650a9c",
   "metadata": {},
   "outputs": [
    {
     "name": "stdout",
     "output_type": "stream",
     "text": [
      "已删除文件: 718907147\n",
      "已删除文件: 635004085\n",
      "已删除文件: 858006124\n",
      "已删除文件: 764002211\n",
      "已删除文件: 626009216\n",
      "已删除文件: 682214042\n",
      "已删除文件: 623002098\n",
      "已删除文件: 790106243\n",
      "已删除文件: 790107130\n",
      "已删除文件: 790108053\n",
      "已删除文件: 847313214\n",
      "已删除文件: 764006124\n",
      "已删除文件: 770206124\n",
      "已删除文件: 622202095\n",
      "已删除文件: 681501083\n",
      "已删除文件: 808202211\n",
      "已删除文件: 621303128\n",
      "已删除文件: 726305199\n",
      "已删除文件: 727506152\n",
      "已删除文件: 770212170\n",
      "已删除文件: 622208222\n",
      "已删除文件: 727508129\n",
      "已删除文件: 857408129\n",
      "已删除文件: 770213214\n",
      "已删除文件: 764012170\n",
      "已删除文件: 622209216\n",
      "已删除文件: 726314062\n",
      "已删除文件: 764013214\n",
      "已删除文件: 636102095\n",
      "已删除文件: 636102098\n",
      "已删除文件: 716803128\n",
      "已删除文件: 610715199\n",
      "已删除文件: 610716105\n",
      "已删除文件: 623009216\n",
      "已删除文件: 637707071\n",
      "已删除文件: 637711248\n",
      "已删除文件: 728901008\n",
      "已删除文件: 857106152\n",
      "已删除文件: 638910200\n",
      "已删除文件: 638915121\n",
      "已删除文件: 639002095\n",
      "已删除文件: 639002098\n",
      "已删除文件: 728906104\n",
      "已删除文件: 808206124\n",
      "已删除文件: 623102095\n",
      "已删除文件: 623102098\n",
      "已删除文件: 716812135\n",
      "已删除文件: 808213214\n",
      "已删除文件: 858012170\n",
      "已删除文件: 684114042\n",
      "已删除文件: 624407071\n",
      "已删除文件: 636109216\n",
      "已删除文件: 639009216\n",
      "已删除文件: 624411248\n",
      "已删除文件: 610003161\n",
      "已删除文件: 719307147\n",
      "已删除文件: 609804153\n",
      "已删除文件: 765010140\n",
      "已删除文件: 639102095\n",
      "已删除文件: 636202095\n",
      "已删除文件: 639109216\n",
      "已删除文件: 693806152\n",
      "已删除文件: 623109216\n",
      "已删除文件: 653402051\n",
      "已删除文件: 653402062\n",
      "已删除文件: 653402218\n",
      "已删除文件: 770505242\n",
      "已删除文件: 695214042\n",
      "已删除文件: 609808035\n",
      "已删除文件: 609808110\n",
      "已删除文件: 609808141\n",
      "已删除文件: 716914012\n",
      "已删除文件: 609811239\n",
      "已删除文件: 609813006\n",
      "已删除文件: 636208222\n",
      "已删除文件: 653408054\n",
      "已删除文件: 636209216\n",
      "已删除文件: 789306124\n",
      "已删除文件: 653410238\n",
      "已删除文件: 653413210\n",
      "已删除文件: 716109049\n",
      "已删除文件: 706603190\n",
      "已删除文件: 706603207\n",
      "已删除文件: 621408176\n",
      "已删除文件: 701805073\n",
      "已删除文件: 662514170\n",
      "已删除文件: 767010140\n",
      "已删除文件: 706609106\n",
      "已删除文件: 706609194\n",
      "已删除文件: 621411042\n",
      "已删除文件: 610511140\n",
      "已删除文件: 789312170\n",
      "已删除文件: 609911248\n",
      "已删除文件: 789313214\n",
      "已删除文件: 809406124\n",
      "已删除文件: 818412170\n",
      "已删除文件: 640802051\n",
      "已删除文件: 640802062\n",
      "已删除文件: 775410140\n",
      "已删除文件: 640802218\n",
      "已删除文件: 695403190\n",
      "已删除文件: 695403207\n",
      "已删除文件: 695406124\n",
      "已删除文件: 640807094\n",
      "已删除文件: 696414042\n",
      "已删除文件: 621510022\n",
      "已删除文件: 596003128\n",
      "已删除文件: 809412170\n",
      "已删除文件: 695409106\n",
      "已删除文件: 695409194\n",
      "已删除文件: 809413214\n",
      "已删除文件: 692110056\n",
      "已删除文件: 692110072\n",
      "已删除文件: 607802051\n",
      "已删除文件: 607802062\n",
      "已删除文件: 607802218\n",
      "已删除文件: 705914042\n",
      "已删除文件: 766310140\n",
      "已删除文件: 682814042\n",
      "已删除文件: 695416031\n",
      "已删除文件: 729406152\n",
      "已删除文件: 607107094\n",
      "已删除文件: 738206152\n",
      "已删除文件: 691403197\n",
      "已删除文件: 729408129\n",
      "已删除文件: 738208129\n",
      "已删除文件: 737003207\n",
      "已删除文件: 610603161\n",
      "已删除文件: 813706152\n",
      "已删除文件: 728306152\n",
      "已删除文件: 813708129\n",
      "已删除文件: 735606152\n",
      "已删除文件: 607806119\n",
      "已删除文件: 774606031\n",
      "已删除文件: 725903190\n",
      "已删除文件: 725903207\n",
      "已删除文件: 607807094\n",
      "已删除文件: 735608129\n",
      "已删除文件: 610015199\n",
      "已删除文件: 728308129\n",
      "已删除文件: 737014227\n",
      "已删除文件: 775702211\n",
      "已删除文件: 799206124\n",
      "已删除文件: 610016105\n",
      "已删除文件: 802906124\n",
      "已删除文件: 685212135\n",
      "已删除文件: 725909106\n",
      "已删除文件: 725909194\n",
      "已删除文件: 719907147\n",
      "已删除文件: 775706124\n",
      "已删除文件: 801606124\n",
      "已删除文件: 802912170\n",
      "已删除文件: 802913214\n",
      "已删除文件: 725916031\n",
      "已删除文件: 801612170\n",
      "已删除文件: 597114048\n",
      "已删除文件: 801613214\n",
      "已删除文件: 607106119\n",
      "已删除文件: 799212170\n",
      "已删除文件: 625115121\n",
      "已删除文件: 799213214\n",
      "已删除文件: 659203027\n",
      "已删除文件: 608706119\n",
      "已删除文件: 640006101\n",
      "已删除文件: 640006194\n",
      "已删除文件: 775712170\n",
      "已删除文件: 775713214\n",
      "已删除文件: 695807147\n",
      "已删除文件: 761510140\n",
      "已删除文件: 640102098\n",
      "已删除文件: 681311139\n",
      "已删除文件: 726106152\n",
      "已删除文件: 726108129\n",
      "已删除文件: 640109216\n",
      "已删除文件: 663114170\n",
      "已删除文件: 717807147\n",
      "已删除文件: 608003128\n",
      "已删除文件: 704103190\n",
      "已删除文件: 704103207\n",
      "已删除文件: 763010140\n",
      "已删除文件: 611503128\n",
      "已删除文件: 704109106\n",
      "已删除文件: 704109194\n",
      "已删除文件: 770010140\n",
      "已删除文件: 596403128\n",
      "已删除文件: 704114227\n",
      "已删除文件: 704116031\n",
      "已删除文件: 626002098\n",
      "已删除文件: 634902051\n",
      "已删除文件: 634902062\n",
      "已删除文件: 634902218\n",
      "已删除文件: 808806152\n",
      "已删除文件: 595003128\n",
      "已删除文件: 808808129\n",
      "已删除文件: 771410140\n",
      "已删除文件: 634907094\n",
      "已删除文件: 622102095\n",
      "已删除文件: 622102098\n",
      "已删除文件: 622109216\n",
      "已删除文件: 611311183\n",
      "已删除文件: 611313230\n",
      "已删除文件: 611314088\n",
      "已删除文件: 611316182\n",
      "已删除文件: 691203233\n",
      "已删除文件: 690414042\n",
      "已删除文件: 692908116\n",
      "已删除文件: 900307090\n",
      "已删除文件: 878406124\n",
      "已删除文件: 895106124\n",
      "已删除文件: 878403207\n",
      "已删除文件: 895112170\n",
      "已删除文件: 889807090\n",
      "已删除文件: 872202211\n",
      "已删除文件: 876307090\n",
      "已删除文件: 872807090\n",
      "已删除文件: 897512170\n",
      "已删除文件: 883211185\n",
      "已删除文件: 895108075\n",
      "已删除文件: 897513214\n",
      "已删除文件: 858906152\n",
      "已删除文件: 878409194\n",
      "已删除文件: 885106124\n",
      "已删除文件: 885607090\n",
      "已删除文件: 878406198\n",
      "已删除文件: 872208075\n",
      "已删除文件: 872212170\n",
      "已删除文件: 896807090\n",
      "已删除文件: 872206124\n",
      "已删除文件: 847306124\n",
      "已删除文件: 872213214\n",
      "已删除文件: 878414012\n",
      "已删除文件: 878416031\n",
      "已删除文件: 878414227\n",
      "已删除文件: 885112170\n",
      "已删除文件: 878403190\n",
      "已删除文件: 873207129\n",
      "已删除文件: 858908129\n",
      "已删除文件: 857108129\n",
      "已删除文件: 857406152\n",
      "已删除文件: 847312170\n",
      "已删除文件: 817306030\n",
      "已删除文件: 808212170\n",
      "已删除文件: 818413214\n",
      "已删除文件: 693808129\n",
      "已删除文件: 692109048\n",
      "已删除文件: 692102220\n",
      "已删除文件: 610615199\n",
      "已删除文件: 610616105\n",
      "已删除文件: 607102051\n",
      "已删除文件: 608702051\n",
      "已删除文件: 607102062\n",
      "已删除文件: 608313247\n",
      "已删除文件: 608702062\n",
      "已删除文件: 607102218\n",
      "已删除文件: 608310154\n",
      "已删除文件: 608702218\n",
      "已删除文件: 608313231\n",
      "已删除文件: 818406124\n",
      "已删除文件: 858013214\n",
      "已删除文件: 626008176\n",
      "已删除文件: 847310003\n",
      "已删除文件: 770210249\n",
      "已删除文件: 636103065\n",
      "已删除文件: 818410249\n",
      "已删除文件: 623103065\n",
      "已删除文件: 653407053\n",
      "已删除文件: 653410241\n",
      "已删除文件: 789310249\n",
      "已删除文件: 610005242\n",
      "已删除文件: 610512209\n",
      "已删除文件: 692103017\n",
      "已删除文件: 640810241\n",
      "已删除文件: 692110112\n",
      "已删除文件: 695415138\n",
      "已删除文件: 608710140\n",
      "已删除文件: 607810140\n",
      "已删除文件: 607810241\n",
      "已删除文件: 608710241\n",
      "已删除文件: 775710249\n",
      "已删除文件: 640103065\n",
      "已删除文件: 626003065\n",
      "已删除文件: 634910241\n",
      "已删除文件: 622103065\n",
      "已删除文件: 622108176\n",
      "已删除文件: 611315058\n",
      "已删除文件: 897510003\n",
      "已删除文件: 876103184\n",
      "已删除文件: 878415138\n",
      "已删除文件: 808210249\n",
      "已删除文件: 607110140\n",
      "已删除文件: 610605242\n",
      "已删除文件: 607110241\n",
      "已删除文件: 1052606198\n",
      "已删除文件: 1116216095\n",
      "已删除文件: 1093711211\n",
      "已删除文件: 1052614012\n",
      "已删除文件: 1064313105\n",
      "已删除文件: 1064009048\n",
      "已删除文件: 957209048\n",
      "已删除文件: 1077913105\n",
      "已删除文件: 1004702128\n",
      "已删除文件: 1091809169\n",
      "已删除文件: 1114007093\n",
      "已删除文件: 1116214046\n",
      "已删除文件: 1116214138\n",
      "已删除文件: 984311211\n",
      "已删除文件: 1116206030\n",
      "已删除文件: 967906124\n",
      "已删除文件: 941306124\n",
      "已删除文件: 952707093\n",
      "已删除文件: 941312170\n",
      "已删除文件: 944211246\n",
      "已删除文件: 945513105\n",
      "已删除文件: 951903184\n",
      "已删除文件: 941803184\n",
      "已删除文件: 953311211\n",
      "已删除文件: 934910005\n",
      "已删除文件: 941302119\n",
      "已删除文件: 945510005\n",
      "已删除文件: 941308075\n",
      "已删除文件: 934913105\n",
      "已删除文件: 986602119\n",
      "已删除文件: 986612170\n",
      "已删除文件: 967912170\n",
      "已删除文件: 986608075\n",
      "已删除文件: 981603157\n",
      "已删除文件: 967908075\n",
      "已删除文件: 969512170\n",
      "已删除文件: 986606124\n",
      "已删除文件: 987209048\n",
      "已删除文件: 969508075\n",
      "已删除文件: 969502119\n",
      "已删除文件: 967307093\n",
      "已删除文件: 967902119\n",
      "已删除文件: 973507093\n",
      "已删除文件: 986007093\n",
      "已删除文件: 1003409048\n",
      "已删除文件: 969506124\n",
      "已删除文件: 954010005\n",
      "已删除文件: 1050210005\n",
      "已删除文件: 1060413214\n",
      "已删除文件: 1050213105\n",
      "已删除文件: 1060412170\n",
      "已删除文件: 1045713105\n",
      "已删除文件: 1052810005\n",
      "已删除文件: 1045710005\n",
      "已删除文件: 1060406124\n",
      "已删除文件: 1053010005\n",
      "已删除文件: 1053013105\n",
      "已删除文件: 1060402119\n",
      "已删除文件: 1077413105\n",
      "已删除文件: 1092309048\n",
      "已删除文件: 1062613105\n",
      "已删除文件: 1063007093\n",
      "已删除文件: 1062610005\n",
      "已删除文件: 986511211\n",
      "已删除文件: 997009106\n",
      "已删除文件: 1091811144\n",
      "已删除文件: 1052602115\n",
      "已删除文件: 1052603039\n",
      "已删除文件: 1052609106\n",
      "已删除文件: 1080509048\n",
      "已删除文件: 1052616031\n",
      "已删除文件: 1052609194\n",
      "已删除文件: 1091804246\n",
      "已删除文件: 1091804152\n",
      "已删除文件: 941310003\n",
      "已删除文件: 986610003\n",
      "已删除文件: 969510003\n",
      "已删除文件: 967910003\n",
      "已删除文件: 1060410003\n"
     ]
    }
   ],
   "source": [
    "import os\n",
    "\n",
    "for file_name in obsid_with_na:\n",
    "    try:\n",
    "        os.remove(\"C:\\\\Users\\\\DELL'\\\\Downloads\\\\midPictureCopy\\\\\"+str(file_name)+\".jfif\")\n",
    "        print(f\"已删除文件: {file_name}\")\n",
    "    except OSError as e:\n",
    "        print(f\"删除文件 {file_name} 时出错: {e}\")"
   ]
  },
  {
   "cell_type": "code",
   "execution_count": 20,
   "id": "150cd842",
   "metadata": {},
   "outputs": [],
   "source": [
    "import os\n",
    "import pandas as pd\n",
    "\n",
    "# 读取 aa.csv 文件\n",
    "aa_df = pd.read_csv('end_data.csv')\n",
    "obsid_list = aa_df['obsid'].tolist()\n",
    "\n",
    "# 遍历 cutMidResSpectrum 文件夹中的所有文件\n",
    "for filename in os.listdir('midPictureCopy'):\n",
    "    if filename.endswith('.jfif'):\n",
    "        # 检查文件名是否在 obsid 列表中\n",
    "        if int(filename[:-5]) not in obsid_list:\n",
    "            # 如果不在,则删除该文件\n",
    "            os.remove(os.path.join('midPictureCopy', filename))"
   ]
  },
  {
   "cell_type": "code",
   "execution_count": 1,
   "id": "91796fe3",
   "metadata": {},
   "outputs": [],
   "source": [
    "import pandas as pd\n",
    "\n",
    "# 读取 aa.csv 和 bb.csv 文件\n",
    "aa = pd.read_csv('DR11中所有的在权威星表里的有图片的10信噪比无重复红巨星.csv')\n",
    "bb = pd.read_csv('E:\\\\Download\\\\新建文件夹\\\\星表.csv')\n",
    "\n",
    "# 合并 aa 和 bb，基于 aa 中的 gp_id 和 bb 中的 Gaia 列\n",
    "merged = pd.merge(aa, bb, left_on='gp_id', right_on='Gaia', how='left')\n",
    "\n",
    "# 选择需要的列：obsid, Teff 和 log(g)\n",
    "result = merged[['obsid', 'Teff', 'log(g)','[M/H]','Mass','Radius']]\n",
    "\n",
    "# 将结果保存到新的 CSV 文件中\n",
    "result.to_csv('lowResLabel.csv', index=False)"
   ]
  },
  {
   "cell_type": "code",
   "execution_count": 2,
   "id": "12968407",
   "metadata": {},
   "outputs": [],
   "source": [
    "\n",
    "# 读取CSV文件\n",
    "df = pd.read_csv('lowResLabel.csv')\n",
    "\n",
    "# 找出存在空数据的行\n",
    "rows_with_na = df[df.isna().any(axis=1)]\n",
    "\n",
    "# 记录存在空数据行的\"obsid\"列的内容\n",
    "obsid_with_na = rows_with_na['obsid'].tolist()\n",
    "\n",
    "\n",
    "# 删除存在空数据的行\n",
    "df_cleaned = df.dropna()\n",
    "\n",
    "# 将清理后的数据保存到新的CSV文件\n",
    "df_cleaned.to_csv('cleaned_file.csv', index=False)"
   ]
  },
  {
   "cell_type": "code",
   "execution_count": 7,
   "id": "1817a974",
   "metadata": {},
   "outputs": [
    {
     "name": "stdout",
     "output_type": "stream",
     "text": [
      "Deleted: cutLowResSpectrum\\1059304133.csv\n",
      "Deleted: cutLowResSpectrum\\116801107.csv\n",
      "Deleted: cutLowResSpectrum\\117014044.csv\n",
      "Deleted: cutLowResSpectrum\\119703022.csv\n",
      "Deleted: cutLowResSpectrum\\126009189.csv\n",
      "Deleted: cutLowResSpectrum\\132503028.csv\n",
      "Deleted: cutLowResSpectrum\\132505171.csv\n",
      "Deleted: cutLowResSpectrum\\159412014.csv\n",
      "Deleted: cutLowResSpectrum\\186102044.csv\n",
      "Deleted: cutLowResSpectrum\\187508202.csv\n",
      "Deleted: cutLowResSpectrum\\195415178.csv\n",
      "Deleted: cutLowResSpectrum\\200904183.csv\n",
      "Deleted: cutLowResSpectrum\\200907026.csv\n",
      "Deleted: cutLowResSpectrum\\200908210.csv\n",
      "Deleted: cutLowResSpectrum\\202804110.csv\n",
      "Deleted: cutLowResSpectrum\\202805120.csv\n",
      "Deleted: cutLowResSpectrum\\202807210.csv\n",
      "Deleted: cutLowResSpectrum\\202808028.csv\n",
      "Deleted: cutLowResSpectrum\\202808058.csv\n",
      "Deleted: cutLowResSpectrum\\202808114.csv\n",
      "Deleted: cutLowResSpectrum\\202808178.csv\n",
      "Deleted: cutLowResSpectrum\\202808186.csv\n",
      "Deleted: cutLowResSpectrum\\202808247.csv\n",
      "Deleted: cutLowResSpectrum\\208508058.csv\n",
      "Deleted: cutLowResSpectrum\\208514144.csv\n",
      "Deleted: cutLowResSpectrum\\208515062.csv\n",
      "Deleted: cutLowResSpectrum\\227306068.csv\n",
      "Deleted: cutLowResSpectrum\\241402218.csv\n",
      "Deleted: cutLowResSpectrum\\254215040.csv\n",
      "Deleted: cutLowResSpectrum\\254216033.csv\n",
      "Deleted: cutLowResSpectrum\\275510214.csv\n",
      "Deleted: cutLowResSpectrum\\277303074.csv\n",
      "Deleted: cutLowResSpectrum\\286916146.csv\n",
      "Deleted: cutLowResSpectrum\\314509031.csv\n",
      "Deleted: cutLowResSpectrum\\314509169.csv\n",
      "Deleted: cutLowResSpectrum\\314511144.csv\n",
      "Deleted: cutLowResSpectrum\\314511193.csv\n",
      "Deleted: cutLowResSpectrum\\337502233.csv\n",
      "Deleted: cutLowResSpectrum\\337505061.csv\n",
      "Deleted: cutLowResSpectrum\\338209048.csv\n",
      "Deleted: cutLowResSpectrum\\340005138.csv\n",
      "Deleted: cutLowResSpectrum\\341605026.csv\n",
      "Deleted: cutLowResSpectrum\\379302185.csv\n",
      "Deleted: cutLowResSpectrum\\379314094.csv\n",
      "Deleted: cutLowResSpectrum\\379315081.csv\n",
      "Deleted: cutLowResSpectrum\\398006209.csv\n",
      "Deleted: cutLowResSpectrum\\399201206.csv\n",
      "Deleted: cutLowResSpectrum\\399204092.csv\n",
      "Deleted: cutLowResSpectrum\\399209023.csv\n",
      "Deleted: cutLowResSpectrum\\400301007.csv\n",
      "Deleted: cutLowResSpectrum\\400301122.csv\n",
      "Deleted: cutLowResSpectrum\\404301063.csv\n",
      "Deleted: cutLowResSpectrum\\406408175.csv\n",
      "Deleted: cutLowResSpectrum\\409306131.csv\n",
      "Deleted: cutLowResSpectrum\\409306167.csv\n",
      "Deleted: cutLowResSpectrum\\410213231.csv\n",
      "Deleted: cutLowResSpectrum\\410813109.csv\n",
      "Deleted: cutLowResSpectrum\\414601140.csv\n",
      "Deleted: cutLowResSpectrum\\414602204.csv\n",
      "Deleted: cutLowResSpectrum\\414603019.csv\n",
      "Deleted: cutLowResSpectrum\\414603040.csv\n",
      "Deleted: cutLowResSpectrum\\414603127.csv\n",
      "Deleted: cutLowResSpectrum\\414606156.csv\n",
      "Deleted: cutLowResSpectrum\\414614246.csv\n",
      "Deleted: cutLowResSpectrum\\420902202.csv\n",
      "Deleted: cutLowResSpectrum\\420907094.csv\n",
      "Deleted: cutLowResSpectrum\\420908054.csv\n",
      "Deleted: cutLowResSpectrum\\420910249.csv\n",
      "Deleted: cutLowResSpectrum\\420913214.csv\n",
      "Deleted: cutLowResSpectrum\\423004013.csv\n",
      "Deleted: cutLowResSpectrum\\423009044.csv\n",
      "Deleted: cutLowResSpectrum\\427906033.csv\n",
      "Deleted: cutLowResSpectrum\\432716015.csv\n",
      "Deleted: cutLowResSpectrum\\439605224.csv\n",
      "Deleted: cutLowResSpectrum\\442903235.csv\n",
      "Deleted: cutLowResSpectrum\\442905085.csv\n",
      "Deleted: cutLowResSpectrum\\456006009.csv\n",
      "Deleted: cutLowResSpectrum\\48505016.csv\n",
      "Deleted: cutLowResSpectrum\\48506163.csv\n",
      "Deleted: cutLowResSpectrum\\498116039.csv\n",
      "Deleted: cutLowResSpectrum\\498705120.csv\n",
      "Deleted: cutLowResSpectrum\\55215066.csv\n",
      "Deleted: cutLowResSpectrum\\602302017.csv\n",
      "Deleted: cutLowResSpectrum\\605504064.csv\n",
      "Deleted: cutLowResSpectrum\\647710100.csv\n",
      "Deleted: cutLowResSpectrum\\680005067.csv\n",
      "Deleted: cutLowResSpectrum\\685610130.csv\n",
      "Deleted: cutLowResSpectrum\\779106124.csv\n",
      "Deleted: cutLowResSpectrum\\793805012.csv\n",
      "Deleted: cutLowResSpectrum\\842615240.csv\n",
      "Deleted: cutLowResSpectrum\\842616242.csv\n",
      "Deleted: cutLowResSpectrum\\874705028.csv\n",
      "Deleted: cutLowResSpectrum\\902303180.csv\n",
      "Deleted: cutLowResSpectrum\\94403035.csv\n",
      "Deleted: cutLowResSpectrum\\96012064.csv\n",
      "Deleted: cutLowResSpectrum\\99912138.csv\n"
     ]
    }
   ],
   "source": [
    "# 把不在标签表的数据删除\n",
    "import os\n",
    "import pandas as pd\n",
    "\n",
    "# 读取CSV文件，获取'obsid'列\n",
    "df = pd.read_csv('cleaned_file.csv')\n",
    "obsid_list = df['obsid'].astype(str).tolist()\n",
    "\n",
    "# 文件夹路径\n",
    "folder_path = 'cutLowResSpectrum'\n",
    "\n",
    "# 遍历文件夹中的文件\n",
    "for filename in os.listdir(folder_path):\n",
    "    # 如果文件名不在obsid_list中，删除文件\n",
    "    if filename.endswith('.csv') and filename[:-4] not in obsid_list:\n",
    "        file_path = os.path.join(folder_path, filename)\n",
    "        os.remove(file_path)\n",
    "        print(f'Deleted: {file_path}')"
   ]
  },
  {
   "cell_type": "code",
   "execution_count": 8,
   "id": "a939dbed",
   "metadata": {},
   "outputs": [
    {
     "name": "stdout",
     "output_type": "stream",
     "text": [
      "Filtered CSV saved as \"filtered_file.csv\".\n"
     ]
    }
   ],
   "source": [
    "import os\n",
    "import pandas as pd\n",
    "\n",
    "# 读取CSV文件\n",
    "df = pd.read_csv('cleaned_file.csv')\n",
    "\n",
    "# 文件夹路径\n",
    "folder_path = 'cutLowResSpectrum'\n",
    "\n",
    "# 获取文件夹中的文件名（不带扩展名）\n",
    "file_names = {os.path.splitext(filename)[0] for filename in os.listdir(folder_path) if filename.endswith('.csv')}\n",
    "\n",
    "# 过滤掉不在文件夹中的obsid\n",
    "filtered_df = df[df['obsid'].astype(str).isin(file_names)]\n",
    "\n",
    "# 保存结果到新CSV文件\n",
    "filtered_df.to_csv('filtered_file.csv', index=False)\n",
    "\n",
    "print('Filtered CSV saved as \"filtered_file.csv\".')"
   ]
  },
  {
   "cell_type": "code",
   "execution_count": 12,
   "id": "b8aeee7a",
   "metadata": {},
   "outputs": [],
   "source": [
    "# 读取aa.csv文件\n",
    "df = pd.read_csv('filtered_data.csv')\n",
    "\n",
    "\n",
    "\n",
    "# 检查cutMidResSpectrum文件夹中是否有与obsid相同名称的csv文件\n",
    "df['has_matching_file'] = df['obsid'].apply(lambda x: os.path.isfile(os.path.join('midPictureCopy', f\"{x}.jfif\")))\n",
    "\n",
    "# 只保留有匹配文件的行\n",
    "df = df[df['has_matching_file']]\n",
    "\n",
    "# 保存到新的csv文件\n",
    "df.to_csv('end_data.csv', index=False)"
   ]
  },
  {
   "cell_type": "code",
   "execution_count": 11,
   "id": "8d7b029d",
   "metadata": {},
   "outputs": [],
   "source": [
    "# 标签文件归一化\n",
    "import pandas as pd\n",
    "from sklearn.preprocessing import MinMaxScaler\n",
    "\n",
    "# 读取CSV文件\n",
    "file_path = 'filtered_file.csv'\n",
    "df = pd.read_csv(file_path)\n",
    "\n",
    "# 选择需要归一化的列\n",
    "columns_to_normalize = df.columns[1:6]\n",
    "\n",
    "# 初始化MinMaxScaler\n",
    "scaler = MinMaxScaler()\n",
    "\n",
    "# 对选定的列进行归一化\n",
    "df[columns_to_normalize] = scaler.fit_transform(df[columns_to_normalize])\n",
    "\n",
    "# 保存归一化后的数据到新的CSV文件\n",
    "df.to_csv('归一化后的文件.csv', index=False)\n"
   ]
  },
  {
   "cell_type": "code",
   "execution_count": 12,
   "id": "636ebb76",
   "metadata": {},
   "outputs": [],
   "source": [
    "# 光谱文件归一化\n",
    "import os\n",
    "import pandas as pd\n",
    "from sklearn.preprocessing import MinMaxScaler\n",
    "\n",
    "# 输入和输出文件夹路径\n",
    "input_folder = \"C:\\\\Users\\\\DELL'\\\\Downloads\\\\cutLowResSpectrum\"\n",
    "output_folder =\"C:\\\\Users\\\\DELL'\\\\Downloads\\\\cutNormalLowResSpectrum\"\n",
    "\n",
    "# 确保输出文件夹存在\n",
    "os.makedirs(output_folder, exist_ok=True)\n",
    "\n",
    "# 遍历输入文件夹中的所有CSV文件\n",
    "for filename in os.listdir(input_folder):\n",
    "    if filename.endswith('.csv'):\n",
    "        file_path = os.path.join(input_folder, filename)\n",
    "        \n",
    "        # 读取CSV文件\n",
    "        df = pd.read_csv(file_path,header=None)\n",
    "        # 选择需要归一化的列\n",
    "        columns_to_normalize = df.columns[0:1]\n",
    "\n",
    "        # 初始化MinMaxScaler\n",
    "        scaler = MinMaxScaler()\n",
    "\n",
    "        # 对选定的列进行归一化\n",
    "        df[columns_to_normalize] = scaler.fit_transform(df[columns_to_normalize])\n",
    "\n",
    "\n",
    "        # 保存到输出文件夹\n",
    "        output_file_path = os.path.join(output_folder, filename)\n",
    "        df.to_csv(output_file_path, index=False,header=None)\n"
   ]
  },
  {
   "cell_type": "code",
   "execution_count": 2,
   "id": "856a4275",
   "metadata": {},
   "outputs": [],
   "source": [
    "# 另一种归一化方法\n",
    "\n",
    "import os\n",
    "import pandas as pd\n",
    "import numpy as np\n",
    "\n",
    "# 输入和输出文件夹路径\n",
    "input_folder = \"C:\\\\Users\\\\DELL'\\\\Downloads\\\\cutLowResSpectrum\"\n",
    "output_folder =\"C:\\\\Users\\\\DELL'\\\\Downloads\\\\cutNormalLowResSpectrum2\"\n",
    "\n",
    "# 确保输出文件夹存在\n",
    "os.makedirs(output_folder, exist_ok=True)\n",
    "\n",
    "# 遍历输入文件夹中的所有CSV文件\n",
    "for filename in os.listdir(input_folder):\n",
    "    if filename.endswith('.csv'):\n",
    "        file_path = os.path.join(input_folder, filename)\n",
    "        \n",
    "        # 读取CSV文件\n",
    "        df = pd.read_csv(file_path,header=None)\n",
    "        mean = df.mean()\n",
    "        std = df.std()\n",
    "    \n",
    "        # 归一化\n",
    "        normalized_df = (df - mean) / std\n",
    "\n",
    "\n",
    "        # 保存到输出文件夹\n",
    "        output_file_path = os.path.join(output_folder, filename)\n",
    "        normalized_df.to_csv(output_file_path, index=False,header=None)    "
   ]
  },
  {
   "cell_type": "code",
   "execution_count": null,
   "id": "96e9e0af",
   "metadata": {},
   "outputs": [],
   "source": [
    "import pandas as pd\n",
    "\n",
    "# 读取CSV文件\n",
    "df = pd.read_csv('你的文件.csv')\n",
    "\n",
    "# 删除包含空值的行\n",
    "df_cleaned = df.dropna()\n",
    "\n",
    "# 将清理后的数据保存到新文件\n",
    "df_cleaned.to_csv('清理后的文件.csv', index=False)"
   ]
  },
  {
   "cell_type": "code",
   "execution_count": 3,
   "id": "12dd0c5e",
   "metadata": {},
   "outputs": [
    {
     "name": "stdout",
     "output_type": "stream",
     "text": [
      "五折交叉验证的数据划分完成。\n"
     ]
    }
   ],
   "source": [
    "#创建五折交叉验证的文件夹\n",
    "import os\n",
    "import pandas as pd\n",
    "from sklearn.model_selection import KFold\n",
    "import shutil\n",
    "\n",
    "# 读取标签文件\n",
    "labels_df = pd.read_csv('归一化后的文件.csv')\n",
    "\n",
    "# 获取数据编号列表\n",
    "data_ids = labels_df.iloc[:, 0].tolist()\n",
    "\n",
    "# 创建五折交叉验证对象\n",
    "kf = KFold(n_splits=5, shuffle=True, random_state=42)\n",
    "\n",
    "# 创建用于保存数据的文件夹\n",
    "base_dir = 'cross_validation_data2'\n",
    "os.makedirs(base_dir, exist_ok=True)\n",
    "\n",
    "# 遍历每个折\n",
    "for fold, (train_index, val_index) in enumerate(kf.split(data_ids)):\n",
    "    # 创建当前折的文件夹\n",
    "    fold_dir = os.path.join(base_dir, f'fold_{fold+1}')\n",
    "    os.makedirs(fold_dir, exist_ok=True)\n",
    "    \n",
    "    # 创建训练数据和验证数据的文件夹\n",
    "    train_dir = os.path.join(fold_dir, 'train_data')\n",
    "    val_dir = os.path.join(fold_dir, 'val_data')\n",
    "    os.makedirs(train_dir, exist_ok=True)\n",
    "    os.makedirs(val_dir, exist_ok=True)\n",
    "    \n",
    "    # 获取训练和验证的数据编号\n",
    "    train_ids = [data_ids[i] for i in train_index]\n",
    "    val_ids = [data_ids[i] for i in val_index]\n",
    "    \n",
    "    # 移动训练数据和验证数据到各自的文件夹\n",
    "    for data_id in train_ids:\n",
    "        shutil.copy(f\"C:\\\\Users\\\\DELL'\\\\Downloads\\\\cutNormalLowResSpectrum2\\\\{data_id}.csv\", train_dir)\n",
    "    \n",
    "    for data_id in val_ids:\n",
    "        shutil.copy(f\"C:\\\\Users\\\\DELL'\\\\Downloads\\\\cutNormalLowResSpectrum2\\\\{data_id}.csv\", val_dir)\n",
    "    \n",
    "    # 保存训练和验证的标签文件\n",
    "    train_labels = labels_df.iloc[train_index]\n",
    "    val_labels = labels_df.iloc[val_index]\n",
    "    train_labels.to_csv(os.path.join(fold_dir, 'train_labels.csv'), index=False)\n",
    "    val_labels.to_csv(os.path.join(fold_dir, 'val_labels.csv'), index=False)\n",
    "\n",
    "print(\"五折交叉验证的数据划分完成。\")"
   ]
  },
  {
   "cell_type": "code",
   "execution_count": 45,
   "id": "bc2ff1fc",
   "metadata": {},
   "outputs": [
    {
     "name": "stdout",
     "output_type": "stream",
     "text": [
      "五折交叉验证的数据划分完成。\n"
     ]
    }
   ],
   "source": [
    "#创建五折交叉验证的图片\n",
    "import os\n",
    "import pandas as pd\n",
    "from sklearn.model_selection import KFold\n",
    "import shutil\n",
    "\n",
    "# 读取标签文件\n",
    "labels_df = pd.read_csv('piclabel.csv')\n",
    "\n",
    "# 获取数据编号列表\n",
    "data_ids = labels_df.iloc[:, 0].tolist()\n",
    "\n",
    "# 创建五折交叉验证对象\n",
    "kf = KFold(n_splits=5, shuffle=True, random_state=42)\n",
    "\n",
    "# 创建用于保存数据的文件夹\n",
    "base_dir = 'pic_cross_validation_data2'\n",
    "os.makedirs(base_dir, exist_ok=True)\n",
    "\n",
    "# 遍历每个折\n",
    "for fold, (train_index, val_index) in enumerate(kf.split(data_ids)):\n",
    "    # 创建当前折的文件夹\n",
    "    fold_dir = os.path.join(base_dir, f'fold_{fold+1}')\n",
    "    os.makedirs(fold_dir, exist_ok=True)\n",
    "    \n",
    "    # 创建训练数据和验证数据的文件夹\n",
    "    train_dir = os.path.join(fold_dir, 'train_data')\n",
    "    val_dir = os.path.join(fold_dir, 'val_data')\n",
    "    os.makedirs(train_dir, exist_ok=True)\n",
    "    os.makedirs(val_dir, exist_ok=True)\n",
    "    \n",
    "    # 获取训练和验证的数据编号\n",
    "    train_ids = [data_ids[i] for i in train_index]\n",
    "    val_ids = [data_ids[i] for i in val_index]\n",
    "    \n",
    "    # 移动训练数据和验证数据到各自的文件夹\n",
    "    for data_id in train_ids:\n",
    "        shutil.copy(f\"C:\\\\Users\\\\DELL'\\\\Downloads\\\\redGiantImages\\\\{data_id}.fits\", train_dir)\n",
    "    \n",
    "    for data_id in val_ids:\n",
    "        shutil.copy(f\"C:\\\\Users\\\\DELL'\\\\Downloads\\\\redGiantImages\\\\{data_id}.fits\", val_dir)\n",
    "    \n",
    "    # 保存训练和验证的标签文件\n",
    "    train_labels = labels_df.iloc[train_index]\n",
    "    val_labels = labels_df.iloc[val_index]\n",
    "    train_labels.to_csv(os.path.join(fold_dir, 'train_labels.csv'), index=False)\n",
    "    val_labels.to_csv(os.path.join(fold_dir, 'val_labels.csv'), index=False)\n",
    "\n",
    "print(\"五折交叉验证的数据划分完成。\")"
   ]
  },
  {
   "cell_type": "code",
   "execution_count": 1,
   "id": "a665f0e2",
   "metadata": {},
   "outputs": [
    {
     "name": "stdout",
     "output_type": "stream",
     "text": [
      "五折交叉验证的数据划分完成。\n"
     ]
    }
   ],
   "source": [
    "#创建五折交叉验证的图片和光谱\n",
    "import os\n",
    "import pandas as pd\n",
    "from sklearn.model_selection import KFold\n",
    "import shutil\n",
    "\n",
    "# 读取标签文件\n",
    "labels_df = pd.read_csv('piclabel.csv')\n",
    "\n",
    "# 获取数据编号列表\n",
    "data_ids = labels_df.iloc[:, 0].tolist()\n",
    "\n",
    "# 创建五折交叉验证对象\n",
    "kf = KFold(n_splits=5, shuffle=True, random_state=42)\n",
    "\n",
    "# 创建用于保存数据的文件夹\n",
    "base_dir = 'final_cross_validation_data'\n",
    "os.makedirs(base_dir, exist_ok=True)\n",
    "\n",
    "# 遍历每个折\n",
    "for fold, (train_index, val_index) in enumerate(kf.split(data_ids)):\n",
    "    # 创建当前折的文件夹\n",
    "    fold_dir = os.path.join(base_dir, f'fold_{fold+1}')\n",
    "    os.makedirs(fold_dir, exist_ok=True)\n",
    "    \n",
    "    # 创建训练数据和验证数据的文件夹\n",
    "    train_dir = os.path.join(fold_dir, 'train_data')\n",
    "    val_dir = os.path.join(fold_dir, 'val_data')\n",
    "    os.makedirs(train_dir, exist_ok=True)\n",
    "    os.makedirs(val_dir, exist_ok=True)\n",
    "    \n",
    "    # 获取训练和验证的数据编号\n",
    "    train_ids = [data_ids[i] for i in train_index]\n",
    "    val_ids = [data_ids[i] for i in val_index]\n",
    "    \n",
    "    # 移动训练数据和验证数据到各自的文件夹\n",
    "    for data_id in train_ids:\n",
    "        shutil.copy(f\"C:\\\\Users\\\\DELL'\\\\Downloads\\\\redGiantImages\\\\{data_id}.fits\", train_dir)\n",
    "        shutil.copy(f\"C:\\\\Users\\\\DELL'\\\\Downloads\\\\cutNormalLowResSpectrum2\\\\{data_id}.csv\", train_dir)\n",
    "    \n",
    "    for data_id in val_ids:\n",
    "        shutil.copy(f\"C:\\\\Users\\\\DELL'\\\\Downloads\\\\redGiantImages\\\\{data_id}.fits\", val_dir)\n",
    "        shutil.copy(f\"C:\\\\Users\\\\DELL'\\\\Downloads\\\\cutNormalLowResSpectrum2\\\\{data_id}.csv\", val_dir)\n",
    "    \n",
    "    # 保存训练和验证的标签文件\n",
    "    train_labels = labels_df.iloc[train_index]\n",
    "    val_labels = labels_df.iloc[val_index]\n",
    "    train_labels.to_csv(os.path.join(fold_dir, 'train_labels.csv'), index=False)\n",
    "    val_labels.to_csv(os.path.join(fold_dir, 'val_labels.csv'), index=False)\n",
    "\n",
    "print(\"五折交叉验证的数据划分完成。\")"
   ]
  },
  {
   "cell_type": "code",
   "execution_count": 6,
   "id": "f7b21d69",
   "metadata": {},
   "outputs": [
    {
     "data": {
      "image/png": "[encoded data removed]",
      "text/plain": [
       "<Figure size 640x480 with 1 Axes>"
      ]
     },
     "metadata": {},
     "output_type": "display_data"
    }
   ],
   "source": [
    "\n",
    "from astropy.io import fits\n",
    "import matplotlib.pyplot as plt\n",
    "hdu_list = fits.open('Picture\\\\46311213.fits')\n",
    "image_data = hdu_list[0].data\n",
    "plt.imshow(image_data)\n",
    "plt.show()\n",
    "hdu_list.close()"
   ]
  },
  {
   "cell_type": "code",
   "execution_count": 15,
   "id": "b4ef3530",
   "metadata": {
    "scrolled": false
   },
   "outputs": [
    {
     "name": "stdout",
     "output_type": "stream",
     "text": [
      "           obsid          ra        dec\n",
      "1       19506124  126.358819  10.752915\n",
      "2       26806207  200.776442  -2.289664\n",
      "3       41603066  132.786658  15.796646\n",
      "4       41603159  133.004878  15.942460\n",
      "5       41614020  131.945671  16.609234\n",
      "...          ...         ...        ...\n",
      "2196  1057405239   21.309648   2.885967\n",
      "2199   964002247   18.652203   1.211439\n",
      "2202   938707249   20.668509   0.188983\n",
      "2203   938704236   19.904318   1.782398\n",
      "2204   938701078   19.162235  -0.010617\n",
      "\n",
      "[1362 rows x 3 columns]\n"
     ]
    }
   ],
   "source": [
    "import pandas as pd\n",
    "\n",
    "# 读取两个CSV文件\n",
    "aa_df = pd.read_csv('归一化后的文件.csv')\n",
    "bb_df = pd.read_csv('DR11中所有的在权威星表里的无重复红巨星.csv')\n",
    "\n",
    "# 筛选出bb.csv中，obsid在aa.csv中的行\n",
    "filtered_bb_df = bb_df[bb_df['obsid'].isin(aa_df['obsid'])]\n",
    "\n",
    "# 提取RA和DE两列\n",
    "result_df = filtered_bb_df[['obsid','ra', 'dec']]\n",
    "\n",
    "# 查看结果\n",
    "print(result_df)\n",
    "\n",
    "# 如果需要保存结果到新的CSV文件\n",
    "result_df.to_csv('filtered_bb.csv', index=False)"
   ]
  },
  {
   "cell_type": "code",
   "execution_count": 42,
   "id": "651253b3",
   "metadata": {},
   "outputs": [],
   "source": [
    "from PIL import Image\n",
    "from astroquery.sdss import SDSS\n",
    "from astropy import coordinates as coords\n",
    "import astropy.units as u\n",
    "import pandas as pd\n",
    "from astropy.io import fits\n",
    "from astropy.wcs import WCS\n",
    "import numpy as np\n",
    "import time\n",
    "#这个函数用来把过小的灰度图填充到100*100\n",
    "def pad_image_to_size(image,x_padding,y_padding,target_size=(100, 100)):\n",
    "    img = image\n",
    "    # 计算填充的尺寸\n",
    "#     print(x_padding)\n",
    "#     print(y_padding)\n",
    "#     print(img.shape)\n",
    "    \n",
    "    # 填充图片\n",
    "    padded_img = np.zeros((100,100))# 'L'模式为灰度图\n",
    "    padded_img[y_padding:y_padding+img.shape[0],x_padding:x_padding+img.shape[1]]=img\n",
    "    \n",
    "    return padded_img\n",
    "# 这个函数可以把一个输入的fits图像（注意只有图像，不是包含其他部分的fits）裁剪成以给定的赤经赤纬为中心的更小的正方形图片\n",
    "# def cut_fits(orginal_pic,ra,dec,size=100):\n",
    "    \n",
    "    \n",
    "#     hdu = orginal_pic\n",
    "#     wcs = WCS(hdu.header)\n",
    "#     data = hdu.data\n",
    "\n",
    "#     # 将给定的赤经和赤纬转换为图像坐标\n",
    "#     x_center, y_center = wcs.world_to_pixel_values(ra, dec)\n",
    "\n",
    "#     # 计算裁剪的边界\n",
    "#     x_min = int(x_center - size / 2)\n",
    "#     x_max = int(x_center + size / 2)\n",
    "#     y_min = int(y_center - size / 2)\n",
    "#     y_max = int(y_center + size / 2)\n",
    "\n",
    "#     # 裁剪图像\n",
    "#     cropped_data = data[y_min:y_max, x_min:x_max]\n",
    "#     # 更新WCS信息\n",
    "#     cropped_wcs = wcs.slice((slice(y_min, y_max), slice(x_min, x_max)))\n",
    "#     hdu_cropped = fits.PrimaryHDU(data=cropped_data, header=cropped_wcs.to_header())\n",
    "#     return hdu_cropped\n",
    "# 这个函数可以把一个输入的有五个波段的fits文件裁剪并合并成一个fits文件\n",
    "def cut_and_merge_fits(orginal_fits,ra,dec,size=100):\n",
    "    pics=[]\n",
    "    for i in range(5):\n",
    "        hdu = orginal_fits[i][0]\n",
    "        wcs = WCS(hdu.header)\n",
    "        data = hdu.data\n",
    "\n",
    "    # 将给定的赤经和赤纬转换为图像坐标\n",
    "        x_center, y_center = wcs.world_to_pixel_values(ra, dec)\n",
    "\n",
    "    # 计算裁剪的边界\n",
    "        x_min = max(int(x_center - size / 2),0)\n",
    "        left_padding=x_min-int(x_center - size / 2)\n",
    "        x_max = min(int(x_center + size / 2),data.shape[1])\n",
    "        y_min = max(int(y_center - size / 2),0)\n",
    "        up_padding=y_min-int(y_center - size / 2)\n",
    "        y_max = min(int(y_center + size / 2),data.shape[0])\n",
    "#         print(f\"x_center{x_center}\")\n",
    "#         print(f\"y_center{y_center}\")\n",
    "#         print(data.shape)\n",
    "#         print(f\"x_min{x_min}\")\n",
    "#         print(f\"y_min{y_min}\")\n",
    "#         print(f\"y_max{y_max}\")\n",
    "    # 裁剪图像\n",
    "        cropped_data = data[y_min:y_max, x_min:x_max]\n",
    "        #print(cropped_data)\n",
    "        if cropped_data.shape[0]==0 or cropped_data.shape[1]==0:\n",
    "            return None\n",
    "        if cropped_data.shape!= (100,100):\n",
    "            cropped_data=pad_image_to_size(cropped_data,left_padding,up_padding, target_size=(100, 100))\n",
    "        pics.append(cropped_data)\n",
    "\n",
    "    # 将所有数据堆叠成一个numpy数组，新的维度包含不同的波段\n",
    "    combined_data = np.stack(pics, axis=0)\n",
    "\n",
    "    # 创建一个新的HDU（Header Data Unit）\n",
    "    hdu = fits.PrimaryHDU(combined_data)\n",
    "\n",
    "    return hdu"
   ]
  },
  {
   "cell_type": "code",
   "execution_count": 43,
   "id": "0140976d",
   "metadata": {},
   "outputs": [
    {
     "name": "stdout",
     "output_type": "stream",
     "text": [
      "obsid: 26806207\n",
      "No data found for obsid: 26806207\n",
      "obsid: 94307097\n",
      "No data found for obsid: 94307097\n",
      "obsid: 94307221\n"
     ]
    },
    {
     "name": "stderr",
     "output_type": "stream",
     "text": [
      "WARNING: FITSFixedWarning: RADECSYS= 'ICRS ' / International Celestial Ref. System \n",
      "the RADECSYS keyword is deprecated, use RADESYSa. [astropy.wcs.wcs]\n",
      "WARNING: FITSFixedWarning: 'datfix' made the change 'Set MJD-OBS to 54031.000000 from DATE-OBS'. [astropy.wcs.wcs]\n"
     ]
    },
    {
     "name": "stdout",
     "output_type": "stream",
     "text": [
      "obsid: 94312098\n",
      "No data found for obsid: 94312098\n",
      "obsid: 99914182\n",
      "No data found for obsid: 99914182\n",
      "obsid: 116807127\n"
     ]
    },
    {
     "name": "stderr",
     "output_type": "stream",
     "text": [
      "WARNING: FITSFixedWarning: RADECSYS= 'ICRS ' / International Celestial Ref. System \n",
      "the RADECSYS keyword is deprecated, use RADESYSa. [astropy.wcs.wcs]\n",
      "WARNING: FITSFixedWarning: 'datfix' made the change 'Set MJD-OBS to 53441.000000 from DATE-OBS'. [astropy.wcs.wcs]\n"
     ]
    },
    {
     "name": "stdout",
     "output_type": "stream",
     "text": [
      "obsid: 116815015\n"
     ]
    },
    {
     "name": "stderr",
     "output_type": "stream",
     "text": [
      "WARNING: FITSFixedWarning: RADECSYS= 'ICRS ' / International Celestial Ref. System \n",
      "the RADECSYS keyword is deprecated, use RADESYSa. [astropy.wcs.wcs]\n",
      "WARNING: FITSFixedWarning: 'datfix' made the change 'Set MJD-OBS to 53405.000000 from DATE-OBS'. [astropy.wcs.wcs]\n"
     ]
    },
    {
     "name": "stdout",
     "output_type": "stream",
     "text": [
      "obsid: 119705115\n",
      "No data found for obsid: 119705115\n",
      "obsid: 125503017\n"
     ]
    },
    {
     "name": "stderr",
     "output_type": "stream",
     "text": [
      "WARNING: FITSFixedWarning: RADECSYS= 'ICRS ' / International Celestial Ref. System \n",
      "the RADECSYS keyword is deprecated, use RADESYSa. [astropy.wcs.wcs]\n",
      "WARNING: FITSFixedWarning: 'datfix' made the change 'Set MJD-OBS to 52667.000000 from DATE-OBS'. [astropy.wcs.wcs]\n"
     ]
    },
    {
     "name": "stdout",
     "output_type": "stream",
     "text": [
      "obsid: 132502139\n"
     ]
    },
    {
     "name": "stderr",
     "output_type": "stream",
     "text": [
      "WARNING: FITSFixedWarning: RADECSYS= 'ICRS ' / International Celestial Ref. System \n",
      "the RADECSYS keyword is deprecated, use RADESYSa. [astropy.wcs.wcs]\n",
      "WARNING: FITSFixedWarning: 'datfix' made the change 'Set MJD-OBS to 53350.000000 from DATE-OBS'. [astropy.wcs.wcs]\n"
     ]
    },
    {
     "name": "stdout",
     "output_type": "stream",
     "text": [
      "obsid: 135805089\n"
     ]
    },
    {
     "name": "stderr",
     "output_type": "stream",
     "text": [
      "WARNING: FITSFixedWarning: RADECSYS= 'ICRS ' / International Celestial Ref. System \n",
      "the RADECSYS keyword is deprecated, use RADESYSa. [astropy.wcs.wcs]\n",
      "WARNING: FITSFixedWarning: 'datfix' made the change 'Set MJD-OBS to 53500.000000 from DATE-OBS'. [astropy.wcs.wcs]\n"
     ]
    },
    {
     "name": "stdout",
     "output_type": "stream",
     "text": [
      "obsid: 135805186\n"
     ]
    },
    {
     "name": "stderr",
     "output_type": "stream",
     "text": [
      "WARNING: FITSFixedWarning: RADECSYS= 'ICRS ' / International Celestial Ref. System \n",
      "the RADECSYS keyword is deprecated, use RADESYSa. [astropy.wcs.wcs]\n",
      "WARNING: FITSFixedWarning: 'datfix' made the change 'Set MJD-OBS to 53441.000000 from DATE-OBS'. [astropy.wcs.wcs]\n"
     ]
    },
    {
     "name": "stdout",
     "output_type": "stream",
     "text": [
      "obsid: 160113215\n",
      "No data found for obsid: 160113215\n",
      "obsid: 187401033\n"
     ]
    },
    {
     "name": "stderr",
     "output_type": "stream",
     "text": [
      "WARNING: FITSFixedWarning: RADECSYS= 'ICRS ' / International Celestial Ref. System \n",
      "the RADECSYS keyword is deprecated, use RADESYSa. [astropy.wcs.wcs]\n",
      "WARNING: FITSFixedWarning: 'datfix' made the change 'Set MJD-OBS to 53354.000000 from DATE-OBS'. [astropy.wcs.wcs]\n"
     ]
    },
    {
     "name": "stdout",
     "output_type": "stream",
     "text": [
      "obsid: 187406203\n"
     ]
    },
    {
     "name": "stderr",
     "output_type": "stream",
     "text": [
      "WARNING: FITSFixedWarning: RADECSYS= 'ICRS ' / International Celestial Ref. System \n",
      "the RADECSYS keyword is deprecated, use RADESYSa. [astropy.wcs.wcs]\n",
      "WARNING: FITSFixedWarning: 'datfix' made the change 'Set MJD-OBS to 53354.000000 from DATE-OBS'. [astropy.wcs.wcs]\n"
     ]
    },
    {
     "name": "stdout",
     "output_type": "stream",
     "text": [
      "obsid: 187407029\n"
     ]
    },
    {
     "name": "stderr",
     "output_type": "stream",
     "text": [
      "WARNING: FITSFixedWarning: RADECSYS= 'ICRS ' / International Celestial Ref. System \n",
      "the RADECSYS keyword is deprecated, use RADESYSa. [astropy.wcs.wcs]\n",
      "WARNING: FITSFixedWarning: 'datfix' made the change 'Set MJD-OBS to 53354.000000 from DATE-OBS'. [astropy.wcs.wcs]\n"
     ]
    },
    {
     "name": "stdout",
     "output_type": "stream",
     "text": [
      "obsid: 187509202\n"
     ]
    },
    {
     "name": "stderr",
     "output_type": "stream",
     "text": [
      "WARNING: FITSFixedWarning: RADECSYS= 'ICRS ' / International Celestial Ref. System \n",
      "the RADECSYS keyword is deprecated, use RADESYSa. [astropy.wcs.wcs]\n",
      "WARNING: FITSFixedWarning: 'datfix' made the change 'Set MJD-OBS to 53351.000000 from DATE-OBS'. [astropy.wcs.wcs]\n"
     ]
    },
    {
     "name": "stdout",
     "output_type": "stream",
     "text": [
      "obsid: 195404192\n",
      "No data found for obsid: 195404192\n",
      "obsid: 195409122\n",
      "No data found for obsid: 195409122\n",
      "obsid: 195411023\n"
     ]
    },
    {
     "name": "stderr",
     "output_type": "stream",
     "text": [
      "WARNING: FITSFixedWarning: RADECSYS= 'ICRS ' / International Celestial Ref. System \n",
      "the RADECSYS keyword is deprecated, use RADESYSa. [astropy.wcs.wcs]\n",
      "WARNING: FITSFixedWarning: 'datfix' made the change 'Set MJD-OBS to 54028.000000 from DATE-OBS'. [astropy.wcs.wcs]\n"
     ]
    },
    {
     "name": "stdout",
     "output_type": "stream",
     "text": [
      "obsid: 195414135\n",
      "No data found for obsid: 195414135\n",
      "obsid: 203013042\n"
     ]
    },
    {
     "name": "stderr",
     "output_type": "stream",
     "text": [
      "WARNING: FITSFixedWarning: RADECSYS= 'ICRS ' / International Celestial Ref. System \n",
      "the RADECSYS keyword is deprecated, use RADESYSa. [astropy.wcs.wcs]\n",
      "WARNING: FITSFixedWarning: 'datfix' made the change 'Set MJD-OBS to 51586.000000 from DATE-OBS'. [astropy.wcs.wcs]\n"
     ]
    },
    {
     "name": "stdout",
     "output_type": "stream",
     "text": [
      "obsid: 205211107\n"
     ]
    },
    {
     "name": "stderr",
     "output_type": "stream",
     "text": [
      "WARNING: FITSFixedWarning: RADECSYS= 'ICRS ' / International Celestial Ref. System \n",
      "the RADECSYS keyword is deprecated, use RADESYSa. [astropy.wcs.wcs]\n",
      "WARNING: FITSFixedWarning: 'datfix' made the change 'Set MJD-OBS to 51258.000000 from DATE-OBS.\n",
      "Changed DATE-OBS from '21/03/99' to '1999-03-21''. [astropy.wcs.wcs]\n"
     ]
    },
    {
     "name": "stdout",
     "output_type": "stream",
     "text": [
      "obsid: 206814031\n"
     ]
    },
    {
     "name": "stderr",
     "output_type": "stream",
     "text": [
      "WARNING: FITSFixedWarning: RADECSYS= 'ICRS ' / International Celestial Ref. System \n",
      "the RADECSYS keyword is deprecated, use RADESYSa. [astropy.wcs.wcs]\n",
      "WARNING: FITSFixedWarning: 'datfix' made the change 'Set MJD-OBS to 51258.000000 from DATE-OBS.\n",
      "Changed DATE-OBS from '21/03/99' to '1999-03-21''. [astropy.wcs.wcs]\n"
     ]
    },
    {
     "name": "stdout",
     "output_type": "stream",
     "text": [
      "obsid: 208513231\n"
     ]
    },
    {
     "name": "stderr",
     "output_type": "stream",
     "text": [
      "WARNING: FITSFixedWarning: RADECSYS= 'ICRS ' / International Celestial Ref. System \n",
      "the RADECSYS keyword is deprecated, use RADESYSa. [astropy.wcs.wcs]\n",
      "WARNING: FITSFixedWarning: 'datfix' made the change 'Set MJD-OBS to 51258.000000 from DATE-OBS.\n",
      "Changed DATE-OBS from '21/03/99' to '1999-03-21''. [astropy.wcs.wcs]\n"
     ]
    },
    {
     "name": "stdout",
     "output_type": "stream",
     "text": [
      "obsid: 227306177\n"
     ]
    },
    {
     "name": "stderr",
     "output_type": "stream",
     "text": [
      "WARNING: FITSFixedWarning: RADECSYS= 'ICRS ' / International Celestial Ref. System \n",
      "the RADECSYS keyword is deprecated, use RADESYSa. [astropy.wcs.wcs]\n",
      "WARNING: FITSFixedWarning: 'datfix' made the change 'Set MJD-OBS to 53359.000000 from DATE-OBS'. [astropy.wcs.wcs]\n"
     ]
    },
    {
     "name": "stdout",
     "output_type": "stream",
     "text": [
      "obsid: 227308007\n"
     ]
    },
    {
     "name": "stderr",
     "output_type": "stream",
     "text": [
      "WARNING: FITSFixedWarning: RADECSYS= 'ICRS ' / International Celestial Ref. System \n",
      "the RADECSYS keyword is deprecated, use RADESYSa. [astropy.wcs.wcs]\n",
      "WARNING: FITSFixedWarning: 'datfix' made the change 'Set MJD-OBS to 53359.000000 from DATE-OBS'. [astropy.wcs.wcs]\n"
     ]
    },
    {
     "name": "stdout",
     "output_type": "stream",
     "text": [
      "obsid: 227312222\n"
     ]
    },
    {
     "name": "stderr",
     "output_type": "stream",
     "text": [
      "WARNING: FITSFixedWarning: RADECSYS= 'ICRS ' / International Celestial Ref. System \n",
      "the RADECSYS keyword is deprecated, use RADESYSa. [astropy.wcs.wcs]\n",
      "WARNING: FITSFixedWarning: 'datfix' made the change 'Set MJD-OBS to 53354.000000 from DATE-OBS'. [astropy.wcs.wcs]\n"
     ]
    },
    {
     "name": "stdout",
     "output_type": "stream",
     "text": [
      "obsid: 227408222\n"
     ]
    },
    {
     "name": "stderr",
     "output_type": "stream",
     "text": [
      "WARNING: FITSFixedWarning: RADECSYS= 'ICRS ' / International Celestial Ref. System \n",
      "the RADECSYS keyword is deprecated, use RADESYSa. [astropy.wcs.wcs]\n",
      "WARNING: FITSFixedWarning: 'datfix' made the change 'Set MJD-OBS to 53359.000000 from DATE-OBS'. [astropy.wcs.wcs]\n"
     ]
    },
    {
     "name": "stdout",
     "output_type": "stream",
     "text": [
      "obsid: 227409060\n"
     ]
    },
    {
     "name": "stderr",
     "output_type": "stream",
     "text": [
      "WARNING: FITSFixedWarning: RADECSYS= 'ICRS ' / International Celestial Ref. System \n",
      "the RADECSYS keyword is deprecated, use RADESYSa. [astropy.wcs.wcs]\n",
      "WARNING: FITSFixedWarning: 'datfix' made the change 'Set MJD-OBS to 53350.000000 from DATE-OBS'. [astropy.wcs.wcs]\n"
     ]
    },
    {
     "name": "stdout",
     "output_type": "stream",
     "text": [
      "obsid: 229710206\n"
     ]
    },
    {
     "name": "stderr",
     "output_type": "stream",
     "text": [
      "WARNING: FITSFixedWarning: RADECSYS= 'ICRS ' / International Celestial Ref. System \n",
      "the RADECSYS keyword is deprecated, use RADESYSa. [astropy.wcs.wcs]\n",
      "WARNING: FITSFixedWarning: 'datfix' made the change 'Set MJD-OBS to 53439.000000 from DATE-OBS'. [astropy.wcs.wcs]\n"
     ]
    },
    {
     "name": "stdout",
     "output_type": "stream",
     "text": [
      "obsid: 248703247\n"
     ]
    },
    {
     "name": "stderr",
     "output_type": "stream",
     "text": [
      "WARNING: FITSFixedWarning: RADECSYS= 'ICRS ' / International Celestial Ref. System \n",
      "the RADECSYS keyword is deprecated, use RADESYSa. [astropy.wcs.wcs]\n",
      "WARNING: FITSFixedWarning: 'datfix' made the change 'Set MJD-OBS to 52994.000000 from DATE-OBS'. [astropy.wcs.wcs]\n"
     ]
    },
    {
     "name": "stdout",
     "output_type": "stream",
     "text": [
      "obsid: 248704129\n",
      "No data found for obsid: 248704129\n",
      "obsid: 248710106\n",
      "No data found for obsid: 248710106\n",
      "obsid: 248715073\n"
     ]
    },
    {
     "name": "stderr",
     "output_type": "stream",
     "text": [
      "WARNING: FITSFixedWarning: RADECSYS= 'ICRS ' / International Celestial Ref. System \n",
      "the RADECSYS keyword is deprecated, use RADESYSa. [astropy.wcs.wcs]\n",
      "WARNING: FITSFixedWarning: 'datfix' made the change 'Set MJD-OBS to 52994.000000 from DATE-OBS'. [astropy.wcs.wcs]\n"
     ]
    },
    {
     "name": "stdout",
     "output_type": "stream",
     "text": [
      "obsid: 248715224\n",
      "No data found for obsid: 248715224\n",
      "obsid: 250214208\n"
     ]
    },
    {
     "name": "stderr",
     "output_type": "stream",
     "text": [
      "WARNING: FITSFixedWarning: RADECSYS= 'ICRS ' / International Celestial Ref. System \n",
      "the RADECSYS keyword is deprecated, use RADESYSa. [astropy.wcs.wcs]\n",
      "WARNING: FITSFixedWarning: 'datfix' made the change 'Set MJD-OBS to 54741.000000 from DATE-OBS'. [astropy.wcs.wcs]\n"
     ]
    },
    {
     "name": "stdout",
     "output_type": "stream",
     "text": [
      "obsid: 254202033\n"
     ]
    },
    {
     "name": "stderr",
     "output_type": "stream",
     "text": [
      "WARNING: FITSFixedWarning: RADECSYS= 'ICRS ' / International Celestial Ref. System \n",
      "the RADECSYS keyword is deprecated, use RADESYSa. [astropy.wcs.wcs]\n",
      "WARNING: FITSFixedWarning: 'datfix' made the change 'Set MJD-OBS to 54031.000000 from DATE-OBS'. [astropy.wcs.wcs]\n"
     ]
    },
    {
     "name": "stdout",
     "output_type": "stream",
     "text": [
      "obsid: 254216065\n",
      "No data found for obsid: 254216065\n",
      "obsid: 256907054\n"
     ]
    },
    {
     "name": "stderr",
     "output_type": "stream",
     "text": [
      "WARNING: FITSFixedWarning: RADECSYS= 'ICRS ' / International Celestial Ref. System \n",
      "the RADECSYS keyword is deprecated, use RADESYSa. [astropy.wcs.wcs]\n",
      "WARNING: FITSFixedWarning: 'datfix' made the change 'Set MJD-OBS to 51075.000000 from DATE-OBS.\n",
      "Changed DATE-OBS from '19/09/98' to '1998-09-19''. [astropy.wcs.wcs]\n"
     ]
    },
    {
     "name": "stdout",
     "output_type": "stream",
     "text": [
      "obsid: 264513039\n"
     ]
    },
    {
     "name": "stderr",
     "output_type": "stream",
     "text": [
      "WARNING: FITSFixedWarning: RADECSYS= 'ICRS ' / International Celestial Ref. System \n",
      "the RADECSYS keyword is deprecated, use RADESYSa. [astropy.wcs.wcs]\n",
      "WARNING: FITSFixedWarning: 'datfix' made the change 'Set MJD-OBS to 52639.000000 from DATE-OBS'. [astropy.wcs.wcs]\n"
     ]
    },
    {
     "name": "stdout",
     "output_type": "stream",
     "text": [
      "obsid: 277316231\n",
      "No data found for obsid: 277316231\n",
      "obsid: 286906192\n",
      "No data found for obsid: 286906192\n",
      "obsid: 314511056\n"
     ]
    },
    {
     "name": "stderr",
     "output_type": "stream",
     "text": [
      "WARNING: FITSFixedWarning: RADECSYS= 'ICRS ' / International Celestial Ref. System \n",
      "the RADECSYS keyword is deprecated, use RADESYSa. [astropy.wcs.wcs]\n",
      "WARNING: FITSFixedWarning: 'datfix' made the change 'Set MJD-OBS to 53686.000000 from DATE-OBS'. [astropy.wcs.wcs]\n"
     ]
    },
    {
     "name": "stdout",
     "output_type": "stream",
     "text": [
      "obsid: 314511098\n"
     ]
    },
    {
     "name": "stderr",
     "output_type": "stream",
     "text": [
      "WARNING: FITSFixedWarning: RADECSYS= 'ICRS ' / International Celestial Ref. System \n",
      "the RADECSYS keyword is deprecated, use RADESYSa. [astropy.wcs.wcs]\n",
      "WARNING: FITSFixedWarning: 'datfix' made the change 'Set MJD-OBS to 53680.000000 from DATE-OBS'. [astropy.wcs.wcs]\n"
     ]
    },
    {
     "name": "stdout",
     "output_type": "stream",
     "text": [
      "obsid: 314512029\n"
     ]
    },
    {
     "name": "stderr",
     "output_type": "stream",
     "text": [
      "WARNING: FITSFixedWarning: RADECSYS= 'ICRS ' / International Celestial Ref. System \n",
      "the RADECSYS keyword is deprecated, use RADESYSa. [astropy.wcs.wcs]\n",
      "WARNING: FITSFixedWarning: 'datfix' made the change 'Set MJD-OBS to 53686.000000 from DATE-OBS'. [astropy.wcs.wcs]\n"
     ]
    },
    {
     "name": "stdout",
     "output_type": "stream",
     "text": [
      "obsid: 314515115\n"
     ]
    },
    {
     "name": "stderr",
     "output_type": "stream",
     "text": [
      "WARNING: FITSFixedWarning: RADECSYS= 'ICRS ' / International Celestial Ref. System \n",
      "the RADECSYS keyword is deprecated, use RADESYSa. [astropy.wcs.wcs]\n",
      "WARNING: FITSFixedWarning: 'datfix' made the change 'Set MJD-OBS to 53704.000000 from DATE-OBS'. [astropy.wcs.wcs]\n"
     ]
    },
    {
     "name": "stdout",
     "output_type": "stream",
     "text": [
      "obsid: 337504048\n"
     ]
    },
    {
     "name": "stderr",
     "output_type": "stream",
     "text": [
      "WARNING: FITSFixedWarning: RADECSYS= 'ICRS ' / International Celestial Ref. System \n",
      "the RADECSYS keyword is deprecated, use RADESYSa. [astropy.wcs.wcs]\n",
      "WARNING: FITSFixedWarning: 'datfix' made the change 'Set MJD-OBS to 53684.000000 from DATE-OBS'. [astropy.wcs.wcs]\n"
     ]
    },
    {
     "name": "stdout",
     "output_type": "stream",
     "text": [
      "obsid: 337505230\n"
     ]
    },
    {
     "name": "stderr",
     "output_type": "stream",
     "text": [
      "WARNING: FITSFixedWarning: RADECSYS= 'ICRS ' / International Celestial Ref. System \n",
      "the RADECSYS keyword is deprecated, use RADESYSa. [astropy.wcs.wcs]\n",
      "WARNING: FITSFixedWarning: 'datfix' made the change 'Set MJD-OBS to 53766.000000 from DATE-OBS'. [astropy.wcs.wcs]\n"
     ]
    },
    {
     "name": "stdout",
     "output_type": "stream",
     "text": [
      "obsid: 339809171\n",
      "No data found for obsid: 339809171\n",
      "obsid: 339812081\n"
     ]
    },
    {
     "name": "stderr",
     "output_type": "stream",
     "text": [
      "WARNING: FITSFixedWarning: RADECSYS= 'ICRS ' / International Celestial Ref. System \n",
      "the RADECSYS keyword is deprecated, use RADESYSa. [astropy.wcs.wcs]\n",
      "WARNING: FITSFixedWarning: 'datfix' made the change 'Set MJD-OBS to 53359.000000 from DATE-OBS'. [astropy.wcs.wcs]\n"
     ]
    },
    {
     "name": "stdout",
     "output_type": "stream",
     "text": [
      "obsid: 340503098\n"
     ]
    },
    {
     "name": "stderr",
     "output_type": "stream",
     "text": [
      "WARNING: FITSFixedWarning: RADECSYS= 'ICRS ' / International Celestial Ref. System \n",
      "the RADECSYS keyword is deprecated, use RADESYSa. [astropy.wcs.wcs]\n",
      "WARNING: FITSFixedWarning: 'datfix' made the change 'Set MJD-OBS to 52667.000000 from DATE-OBS'. [astropy.wcs.wcs]\n"
     ]
    },
    {
     "name": "stdout",
     "output_type": "stream",
     "text": [
      "obsid: 379311126\n"
     ]
    },
    {
     "name": "stderr",
     "output_type": "stream",
     "text": [
      "WARNING: FITSFixedWarning: RADECSYS= 'ICRS ' / International Celestial Ref. System \n",
      "the RADECSYS keyword is deprecated, use RADESYSa. [astropy.wcs.wcs]\n",
      "WARNING: FITSFixedWarning: 'datfix' made the change 'Set MJD-OBS to 53082.000000 from DATE-OBS'. [astropy.wcs.wcs]\n"
     ]
    },
    {
     "name": "stdout",
     "output_type": "stream",
     "text": [
      "obsid: 387507056\n"
     ]
    },
    {
     "name": "stderr",
     "output_type": "stream",
     "text": [
      "WARNING: FITSFixedWarning: RADECSYS= 'ICRS ' / International Celestial Ref. System \n",
      "the RADECSYS keyword is deprecated, use RADESYSa. [astropy.wcs.wcs]\n",
      "WARNING: FITSFixedWarning: 'datfix' made the change 'Set MJD-OBS to 52721.000000 from DATE-OBS'. [astropy.wcs.wcs]\n"
     ]
    },
    {
     "name": "stdout",
     "output_type": "stream",
     "text": [
      "obsid: 387706107\n"
     ]
    },
    {
     "name": "stderr",
     "output_type": "stream",
     "text": [
      "WARNING: FITSFixedWarning: RADECSYS= 'ICRS ' / International Celestial Ref. System \n",
      "the RADECSYS keyword is deprecated, use RADESYSa. [astropy.wcs.wcs]\n",
      "WARNING: FITSFixedWarning: 'datfix' made the change 'Set MJD-OBS to 53269.000000 from DATE-OBS'. [astropy.wcs.wcs]\n"
     ]
    },
    {
     "name": "stdout",
     "output_type": "stream",
     "text": [
      "obsid: 387706220\n"
     ]
    },
    {
     "name": "stderr",
     "output_type": "stream",
     "text": [
      "WARNING: FITSFixedWarning: RADECSYS= 'ICRS ' / International Celestial Ref. System \n",
      "the RADECSYS keyword is deprecated, use RADESYSa. [astropy.wcs.wcs]\n",
      "WARNING: FITSFixedWarning: 'datfix' made the change 'Set MJD-OBS to 54029.000000 from DATE-OBS'. [astropy.wcs.wcs]\n"
     ]
    },
    {
     "name": "stdout",
     "output_type": "stream",
     "text": [
      "obsid: 391804240\n"
     ]
    },
    {
     "name": "stderr",
     "output_type": "stream",
     "text": [
      "WARNING: FITSFixedWarning: RADECSYS= 'ICRS ' / International Celestial Ref. System \n",
      "the RADECSYS keyword is deprecated, use RADESYSa. [astropy.wcs.wcs]\n",
      "WARNING: FITSFixedWarning: 'datfix' made the change 'Set MJD-OBS to 53269.000000 from DATE-OBS'. [astropy.wcs.wcs]\n"
     ]
    },
    {
     "name": "stdout",
     "output_type": "stream",
     "text": [
      "obsid: 391806139\n"
     ]
    },
    {
     "name": "stderr",
     "output_type": "stream",
     "text": [
      "WARNING: FITSFixedWarning: RADECSYS= 'ICRS ' / International Celestial Ref. System \n",
      "the RADECSYS keyword is deprecated, use RADESYSa. [astropy.wcs.wcs]\n",
      "WARNING: FITSFixedWarning: 'datfix' made the change 'Set MJD-OBS to 52994.000000 from DATE-OBS'. [astropy.wcs.wcs]\n"
     ]
    },
    {
     "name": "stdout",
     "output_type": "stream",
     "text": [
      "obsid: 391815193\n"
     ]
    },
    {
     "name": "stderr",
     "output_type": "stream",
     "text": [
      "WARNING: FITSFixedWarning: RADECSYS= 'ICRS ' / International Celestial Ref. System \n",
      "the RADECSYS keyword is deprecated, use RADESYSa. [astropy.wcs.wcs]\n",
      "WARNING: FITSFixedWarning: 'datfix' made the change 'Set MJD-OBS to 54029.000000 from DATE-OBS'. [astropy.wcs.wcs]\n"
     ]
    },
    {
     "name": "stdout",
     "output_type": "stream",
     "text": [
      "obsid: 399210087\n"
     ]
    },
    {
     "name": "stderr",
     "output_type": "stream",
     "text": [
      "WARNING: FITSFixedWarning: RADECSYS= 'ICRS ' / International Celestial Ref. System \n",
      "the RADECSYS keyword is deprecated, use RADESYSa. [astropy.wcs.wcs]\n",
      "WARNING: FITSFixedWarning: 'datfix' made the change 'Set MJD-OBS to 54152.000000 from DATE-OBS'. [astropy.wcs.wcs]\n"
     ]
    },
    {
     "name": "stdout",
     "output_type": "stream",
     "text": [
      "obsid: 406401213\n"
     ]
    },
    {
     "name": "stderr",
     "output_type": "stream",
     "text": [
      "WARNING: FITSFixedWarning: RADECSYS= 'ICRS ' / International Celestial Ref. System \n",
      "the RADECSYS keyword is deprecated, use RADESYSa. [astropy.wcs.wcs]\n",
      "WARNING: FITSFixedWarning: 'datfix' made the change 'Set MJD-OBS to 52994.000000 from DATE-OBS'. [astropy.wcs.wcs]\n"
     ]
    },
    {
     "name": "stdout",
     "output_type": "stream",
     "text": [
      "obsid: 406406068\n"
     ]
    },
    {
     "name": "stderr",
     "output_type": "stream",
     "text": [
      "WARNING: FITSFixedWarning: RADECSYS= 'ICRS ' / International Celestial Ref. System \n",
      "the RADECSYS keyword is deprecated, use RADESYSa. [astropy.wcs.wcs]\n",
      "WARNING: FITSFixedWarning: 'datfix' made the change 'Set MJD-OBS to 54028.000000 from DATE-OBS'. [astropy.wcs.wcs]\n"
     ]
    },
    {
     "name": "stdout",
     "output_type": "stream",
     "text": [
      "obsid: 414605209\n"
     ]
    },
    {
     "name": "stderr",
     "output_type": "stream",
     "text": [
      "WARNING: FITSFixedWarning: RADECSYS= 'ICRS ' / International Celestial Ref. System \n",
      "the RADECSYS keyword is deprecated, use RADESYSa. [astropy.wcs.wcs]\n",
      "WARNING: FITSFixedWarning: 'datfix' made the change 'Set MJD-OBS to 53350.000000 from DATE-OBS'. [astropy.wcs.wcs]\n"
     ]
    },
    {
     "name": "stdout",
     "output_type": "stream",
     "text": [
      "obsid: 414615034\n"
     ]
    },
    {
     "name": "stderr",
     "output_type": "stream",
     "text": [
      "WARNING: FITSFixedWarning: RADECSYS= 'ICRS ' / International Celestial Ref. System \n",
      "the RADECSYS keyword is deprecated, use RADESYSa. [astropy.wcs.wcs]\n",
      "WARNING: FITSFixedWarning: 'datfix' made the change 'Set MJD-OBS to 53108.000000 from DATE-OBS'. [astropy.wcs.wcs]\n"
     ]
    },
    {
     "name": "stdout",
     "output_type": "stream",
     "text": [
      "obsid: 420211008\n",
      "No data found for obsid: 420211008\n",
      "obsid: 420908072\n"
     ]
    },
    {
     "name": "stderr",
     "output_type": "stream",
     "text": [
      "WARNING: FITSFixedWarning: RADECSYS= 'ICRS ' / International Celestial Ref. System \n",
      "the RADECSYS keyword is deprecated, use RADESYSa. [astropy.wcs.wcs]\n",
      "WARNING: FITSFixedWarning: 'datfix' made the change 'Set MJD-OBS to 53684.000000 from DATE-OBS'. [astropy.wcs.wcs]\n"
     ]
    },
    {
     "name": "stdout",
     "output_type": "stream",
     "text": [
      "obsid: 420915008\n"
     ]
    },
    {
     "name": "stderr",
     "output_type": "stream",
     "text": [
      "WARNING: FITSFixedWarning: RADECSYS= 'ICRS ' / International Celestial Ref. System \n",
      "the RADECSYS keyword is deprecated, use RADESYSa. [astropy.wcs.wcs]\n",
      "WARNING: FITSFixedWarning: 'datfix' made the change 'Set MJD-OBS to 53684.000000 from DATE-OBS'. [astropy.wcs.wcs]\n"
     ]
    },
    {
     "name": "stdout",
     "output_type": "stream",
     "text": [
      "obsid: 420915100\n"
     ]
    },
    {
     "name": "stderr",
     "output_type": "stream",
     "text": [
      "WARNING: FITSFixedWarning: RADECSYS= 'ICRS ' / International Celestial Ref. System \n",
      "the RADECSYS keyword is deprecated, use RADESYSa. [astropy.wcs.wcs]\n",
      "WARNING: FITSFixedWarning: 'datfix' made the change 'Set MJD-OBS to 53439.000000 from DATE-OBS'. [astropy.wcs.wcs]\n"
     ]
    },
    {
     "name": "stdout",
     "output_type": "stream",
     "text": [
      "obsid: 421204140\n",
      "No data found for obsid: 421204140\n",
      "obsid: 421204149\n",
      "No data found for obsid: 421204149\n",
      "obsid: 421205106\n",
      "No data found for obsid: 421205106\n",
      "obsid: 423003150\n"
     ]
    },
    {
     "name": "stderr",
     "output_type": "stream",
     "text": [
      "WARNING: FITSFixedWarning: RADECSYS= 'ICRS ' / International Celestial Ref. System \n",
      "the RADECSYS keyword is deprecated, use RADESYSa. [astropy.wcs.wcs]\n",
      "WARNING: FITSFixedWarning: 'datfix' made the change 'Set MJD-OBS to 52994.000000 from DATE-OBS'. [astropy.wcs.wcs]\n"
     ]
    },
    {
     "name": "stdout",
     "output_type": "stream",
     "text": [
      "obsid: 423004161\n",
      "No data found for obsid: 423004161\n",
      "obsid: 423005217\n"
     ]
    },
    {
     "name": "stderr",
     "output_type": "stream",
     "text": [
      "WARNING: FITSFixedWarning: RADECSYS= 'ICRS ' / International Celestial Ref. System \n",
      "the RADECSYS keyword is deprecated, use RADESYSa. [astropy.wcs.wcs]\n",
      "WARNING: FITSFixedWarning: 'datfix' made the change 'Set MJD-OBS to 52994.000000 from DATE-OBS'. [astropy.wcs.wcs]\n"
     ]
    },
    {
     "name": "stdout",
     "output_type": "stream",
     "text": [
      "obsid: 423014158\n",
      "No data found for obsid: 423014158\n",
      "obsid: 423014185\n",
      "No data found for obsid: 423014185\n",
      "obsid: 427902231\n"
     ]
    },
    {
     "name": "stderr",
     "output_type": "stream",
     "text": [
      "WARNING: FITSFixedWarning: RADECSYS= 'ICRS ' / International Celestial Ref. System \n",
      "the RADECSYS keyword is deprecated, use RADESYSa. [astropy.wcs.wcs]\n",
      "WARNING: FITSFixedWarning: 'datfix' made the change 'Set MJD-OBS to 53269.000000 from DATE-OBS'. [astropy.wcs.wcs]\n"
     ]
    },
    {
     "name": "stdout",
     "output_type": "stream",
     "text": [
      "obsid: 427910238\n"
     ]
    },
    {
     "name": "stderr",
     "output_type": "stream",
     "text": [
      "WARNING: FITSFixedWarning: RADECSYS= 'ICRS ' / International Celestial Ref. System \n",
      "the RADECSYS keyword is deprecated, use RADESYSa. [astropy.wcs.wcs]\n",
      "WARNING: FITSFixedWarning: 'datfix' made the change 'Set MJD-OBS to 52994.000000 from DATE-OBS'. [astropy.wcs.wcs]\n"
     ]
    },
    {
     "name": "stdout",
     "output_type": "stream",
     "text": [
      "obsid: 427915058\n",
      "No data found for obsid: 427915058\n",
      "obsid: 432608030\n"
     ]
    },
    {
     "name": "stderr",
     "output_type": "stream",
     "text": [
      "WARNING: FITSFixedWarning: RADECSYS= 'ICRS ' / International Celestial Ref. System \n",
      "the RADECSYS keyword is deprecated, use RADESYSa. [astropy.wcs.wcs]\n",
      "WARNING: FITSFixedWarning: 'datfix' made the change 'Set MJD-OBS to 53405.000000 from DATE-OBS'. [astropy.wcs.wcs]\n"
     ]
    },
    {
     "name": "stdout",
     "output_type": "stream",
     "text": [
      "obsid: 432714160\n"
     ]
    },
    {
     "name": "stderr",
     "output_type": "stream",
     "text": [
      "WARNING: FITSFixedWarning: RADECSYS= 'ICRS ' / International Celestial Ref. System \n",
      "the RADECSYS keyword is deprecated, use RADESYSa. [astropy.wcs.wcs]\n",
      "WARNING: FITSFixedWarning: 'datfix' made the change 'Set MJD-OBS to 53351.000000 from DATE-OBS'. [astropy.wcs.wcs]\n"
     ]
    },
    {
     "name": "stdout",
     "output_type": "stream",
     "text": [
      "obsid: 439616120\n"
     ]
    },
    {
     "name": "stderr",
     "output_type": "stream",
     "text": [
      "WARNING: FITSFixedWarning: RADECSYS= 'ICRS ' / International Celestial Ref. System \n",
      "the RADECSYS keyword is deprecated, use RADESYSa. [astropy.wcs.wcs]\n",
      "WARNING: FITSFixedWarning: 'datfix' made the change 'Set MJD-OBS to 53351.000000 from DATE-OBS'. [astropy.wcs.wcs]\n"
     ]
    },
    {
     "name": "stdout",
     "output_type": "stream",
     "text": [
      "obsid: 442904048\n"
     ]
    },
    {
     "name": "stderr",
     "output_type": "stream",
     "text": [
      "WARNING: FITSFixedWarning: RADECSYS= 'ICRS ' / International Celestial Ref. System \n",
      "the RADECSYS keyword is deprecated, use RADESYSa. [astropy.wcs.wcs]\n",
      "WARNING: FITSFixedWarning: 'datfix' made the change 'Set MJD-OBS to 53439.000000 from DATE-OBS'. [astropy.wcs.wcs]\n"
     ]
    },
    {
     "name": "stdout",
     "output_type": "stream",
     "text": [
      "obsid: 442912232\n"
     ]
    },
    {
     "name": "stderr",
     "output_type": "stream",
     "text": [
      "WARNING: FITSFixedWarning: RADECSYS= 'ICRS ' / International Celestial Ref. System \n",
      "the RADECSYS keyword is deprecated, use RADESYSa. [astropy.wcs.wcs]\n",
      "WARNING: FITSFixedWarning: 'datfix' made the change 'Set MJD-OBS to 53441.000000 from DATE-OBS'. [astropy.wcs.wcs]\n"
     ]
    },
    {
     "name": "stdout",
     "output_type": "stream",
     "text": [
      "obsid: 476213235\n"
     ]
    },
    {
     "name": "stderr",
     "output_type": "stream",
     "text": [
      "WARNING: FITSFixedWarning: RADECSYS= 'ICRS ' / International Celestial Ref. System \n",
      "the RADECSYS keyword is deprecated, use RADESYSa. [astropy.wcs.wcs]\n",
      "WARNING: FITSFixedWarning: 'datfix' made the change 'Set MJD-OBS to 53359.000000 from DATE-OBS'. [astropy.wcs.wcs]\n"
     ]
    },
    {
     "name": "stdout",
     "output_type": "stream",
     "text": [
      "obsid: 498714131\n",
      "No data found for obsid: 498714131\n",
      "obsid: 628515137\n"
     ]
    },
    {
     "name": "stderr",
     "output_type": "stream",
     "text": [
      "WARNING: FITSFixedWarning: RADECSYS= 'ICRS ' / International Celestial Ref. System \n",
      "the RADECSYS keyword is deprecated, use RADESYSa. [astropy.wcs.wcs]\n",
      "WARNING: FITSFixedWarning: 'datfix' made the change 'Set MJD-OBS to 52615.000000 from DATE-OBS'. [astropy.wcs.wcs]\n"
     ]
    },
    {
     "name": "stdout",
     "output_type": "stream",
     "text": [
      "obsid: 661511180\n"
     ]
    },
    {
     "name": "stderr",
     "output_type": "stream",
     "text": [
      "WARNING: FITSFixedWarning: RADECSYS= 'ICRS ' / International Celestial Ref. System \n",
      "the RADECSYS keyword is deprecated, use RADESYSa. [astropy.wcs.wcs]\n",
      "WARNING: FITSFixedWarning: 'datfix' made the change 'Set MJD-OBS to 52729.000000 from DATE-OBS'. [astropy.wcs.wcs]\n"
     ]
    },
    {
     "name": "stdout",
     "output_type": "stream",
     "text": [
      "obsid: 700113004\n"
     ]
    },
    {
     "name": "stderr",
     "output_type": "stream",
     "text": [
      "WARNING: FITSFixedWarning: RADECSYS= 'ICRS ' / International Celestial Ref. System \n",
      "the RADECSYS keyword is deprecated, use RADESYSa. [astropy.wcs.wcs]\n",
      "WARNING: FITSFixedWarning: 'datfix' made the change 'Set MJD-OBS to 52615.000000 from DATE-OBS'. [astropy.wcs.wcs]\n"
     ]
    },
    {
     "name": "stdout",
     "output_type": "stream",
     "text": [
      "obsid: 713406197\n"
     ]
    },
    {
     "name": "stderr",
     "output_type": "stream",
     "text": [
      "WARNING: FITSFixedWarning: RADECSYS= 'ICRS ' / International Celestial Ref. System \n",
      "the RADECSYS keyword is deprecated, use RADESYSa. [astropy.wcs.wcs]\n",
      "WARNING: FITSFixedWarning: 'datfix' made the change 'Set MJD-OBS to 53359.000000 from DATE-OBS'. [astropy.wcs.wcs]\n"
     ]
    },
    {
     "name": "stdout",
     "output_type": "stream",
     "text": [
      "obsid: 807412188\n"
     ]
    },
    {
     "name": "stderr",
     "output_type": "stream",
     "text": [
      "WARNING: FITSFixedWarning: RADECSYS= 'ICRS ' / International Celestial Ref. System \n",
      "the RADECSYS keyword is deprecated, use RADESYSa. [astropy.wcs.wcs]\n",
      "WARNING: FITSFixedWarning: 'datfix' made the change 'Set MJD-OBS to 51258.000000 from DATE-OBS.\n",
      "Changed DATE-OBS from '21/03/99' to '1999-03-21''. [astropy.wcs.wcs]\n"
     ]
    },
    {
     "name": "stdout",
     "output_type": "stream",
     "text": [
      "obsid: 874713225\n"
     ]
    },
    {
     "name": "stderr",
     "output_type": "stream",
     "text": [
      "WARNING: FITSFixedWarning: RADECSYS= 'ICRS ' / International Celestial Ref. System \n",
      "the RADECSYS keyword is deprecated, use RADESYSa. [astropy.wcs.wcs]\n",
      "WARNING: FITSFixedWarning: 'datfix' made the change 'Set MJD-OBS to 52994.000000 from DATE-OBS'. [astropy.wcs.wcs]\n"
     ]
    },
    {
     "name": "stdout",
     "output_type": "stream",
     "text": [
      "obsid: 883111159\n",
      "No data found for obsid: 883111159\n",
      "obsid: 1059303188\n"
     ]
    },
    {
     "name": "stderr",
     "output_type": "stream",
     "text": [
      "WARNING: FITSFixedWarning: RADECSYS= 'ICRS ' / International Celestial Ref. System \n",
      "the RADECSYS keyword is deprecated, use RADESYSa. [astropy.wcs.wcs]\n",
      "WARNING: FITSFixedWarning: 'datfix' made the change 'Set MJD-OBS to 53684.000000 from DATE-OBS'. [astropy.wcs.wcs]\n"
     ]
    }
   ],
   "source": [
    "from astroquery.sdss import SDSS\n",
    "from astropy import coordinates as coords\n",
    "import astropy.units as u\n",
    "import pandas as pd\n",
    "from astropy.io import fits\n",
    "from astropy.wcs import WCS\n",
    "import numpy as np\n",
    "import time\n",
    " \n",
    "\n",
    "\n",
    "# 读取两个CSV文件\n",
    "df = pd.read_csv('missing_obsid.csv')\n",
    "# 示例赤经和赤纬（单位为度）\n",
    "fails=[]\n",
    "\n",
    "# 遍历每个坐标，下载图像\n",
    "for i in range(len(df)):\n",
    "    time.sleep(1)\n",
    "    # 创建坐标对象\n",
    "    obsid=df['obsid'][i]\n",
    "    ra=df['ra'][i]\n",
    "    dec=df['dec'][i]\n",
    "    pos = coords.SkyCoord(ra, dec, unit=(u.deg, u.deg), frame='icrs')\n",
    "\n",
    "    # 从SDSS下载图像\n",
    "    xid = SDSS.query_region(pos, radius=1.0/3600 * u.deg, photoobj_fields=['ra', 'dec', 'objid','run','rerun','camcol','field'])\n",
    "    print(f'obsid: {obsid}')\n",
    "    if xid is not None:\n",
    "        #pos2=coords.SkyCoord(xid[0][1], xid[0][2], unit=(u.deg, u.deg), frame='icrs')\n",
    "        # 下载图像\n",
    "        images = SDSS.get_images(matches=xid[0:1],radius=1.0/3600 * u.deg, band='ugriz')  # 'g'为波段, 可以是'u', 'g', 'r', 'i', 'z'\n",
    "        pic=cut_and_merge_fits(images,ra,dec,size=100)\n",
    "        if pic is None:\n",
    "            print(f'No data found for obsid: {obsid}')\n",
    "            fails.append(obsid)\n",
    "            continue\n",
    "        pic.writeto(f\"C:\\\\Users\\\\DELL'\\\\Downloads\\\\redGiantImages\\\\{obsid}.fits\", overwrite=True)\n",
    "        # 裁剪到一个不太大的大小，目前是100*100\n",
    "#         size = 100\n",
    "#         pic=cut_fits(images[0][0],ra,dec,size=100)\n",
    "#         pic.writeto(f\"C:\\\\Users\\\\DELL'\\\\Downloads\\\\redGiantImages\\\\{obsid}_u.fits\", overwrite=True)\n",
    "#         pic=cut_fits(images[1][0],ra,dec,size=100)\n",
    "#         pic.writeto(f\"C:\\\\Users\\\\DELL'\\\\Downloads\\\\redGiantImages\\\\{obsid}_g.fits\", overwrite=True)\n",
    "#         pic=cut_fits(images[2][0],ra,dec,size=100)\n",
    "#         pic.writeto(f\"C:\\\\Users\\\\DELL'\\\\Downloads\\\\redGiantImages\\\\{obsid}_r.fits\", overwrite=True)\n",
    "#         pic=cut_fits(images[3][0],ra,dec,size=100)\n",
    "#         pic.writeto(f\"C:\\\\Users\\\\DELL'\\\\Downloads\\\\redGiantImages\\\\{obsid}_i.fits\", overwrite=True)\n",
    "#         pic=cut_fits(images[4][0],ra,dec,size=100)\n",
    "#         pic.writeto(f\"C:\\\\Users\\\\DELL'\\\\Downloads\\\\redGiantImages\\\\{obsid}_z.fits\", overwrite=True)\n",
    "        \n",
    "\n",
    "    else:\n",
    "        print(f'No data found for obsid: {obsid}')\n",
    "        fails.append(obsid)\n",
    "        \n"
   ]
  },
  {
   "cell_type": "code",
   "execution_count": 44,
   "id": "0ce8b027",
   "metadata": {
    "scrolled": true
   },
   "outputs": [
    {
     "data": {
      "text/plain": [
       "[26806207,\n",
       " 94307097,\n",
       " 94312098,\n",
       " 99914182,\n",
       " 119705115,\n",
       " 160113215,\n",
       " 195404192,\n",
       " 195409122,\n",
       " 195414135,\n",
       " 248704129,\n",
       " 248710106,\n",
       " 248715224,\n",
       " 254216065,\n",
       " 277316231,\n",
       " 286906192,\n",
       " 339809171,\n",
       " 420211008,\n",
       " 421204140,\n",
       " 421204149,\n",
       " 421205106,\n",
       " 423004161,\n",
       " 423014158,\n",
       " 423014185,\n",
       " 427915058,\n",
       " 498714131,\n",
       " 883111159]"
      ]
     },
     "execution_count": 44,
     "metadata": {},
     "output_type": "execute_result"
    }
   ],
   "source": [
    "\n",
    "fails"
   ]
  },
  {
   "cell_type": "code",
   "execution_count": 14,
   "id": "f8dc6a3a",
   "metadata": {},
   "outputs": [
    {
     "data": {
      "text/plain": [
       "numpy.ndarray"
      ]
     },
     "execution_count": 14,
     "metadata": {},
     "output_type": "execute_result"
    }
   ],
   "source": [
    "type(images[0][0].data)"
   ]
  },
  {
   "cell_type": "code",
   "execution_count": 106,
   "id": "26f94fd4",
   "metadata": {
    "scrolled": true
   },
   "outputs": [],
   "source": [
    "images = SDSS.get_images(matches=xid[0:1],radius=1.0/360000 * u.deg, band='ugriz')  "
   ]
  },
  {
   "cell_type": "code",
   "execution_count": 121,
   "id": "2493d156",
   "metadata": {},
   "outputs": [],
   "source": [
    "from astropy.io import fits\n",
    "import numpy as np\n",
    "\n",
    "a=cut_and_merge_fits(images,126.358819, 10.752915,size=100)\n",
    "a.writeto('combined.fits', overwrite=True)"
   ]
  },
  {
   "cell_type": "code",
   "execution_count": 118,
   "id": "abc1d14c",
   "metadata": {},
   "outputs": [
    {
     "name": "stderr",
     "output_type": "stream",
     "text": [
      "WARNING: FITSFixedWarning: RADECSYS= 'ICRS ' / International Celestial Ref. System \n",
      "the RADECSYS keyword is deprecated, use RADESYSa. [astropy.wcs.wcs]\n",
      "WARNING: FITSFixedWarning: 'datfix' made the change 'Set MJD-OBS to 53710.000000 from DATE-OBS'. [astropy.wcs.wcs]\n",
      "WARNING: FITSFixedWarning: RADECSYS= 'ICRS ' / International Celestial Ref. System \n",
      "the RADECSYS keyword is deprecated, use RADESYSa. [astropy.wcs.wcs]\n",
      "WARNING: FITSFixedWarning: 'datfix' made the change 'Set MJD-OBS to 53710.000000 from DATE-OBS'. [astropy.wcs.wcs]\n",
      "WARNING: FITSFixedWarning: RADECSYS= 'ICRS ' / International Celestial Ref. System \n",
      "the RADECSYS keyword is deprecated, use RADESYSa. [astropy.wcs.wcs]\n",
      "WARNING: FITSFixedWarning: 'datfix' made the change 'Set MJD-OBS to 53710.000000 from DATE-OBS'. [astropy.wcs.wcs]\n",
      "WARNING: FITSFixedWarning: RADECSYS= 'ICRS ' / International Celestial Ref. System \n",
      "the RADECSYS keyword is deprecated, use RADESYSa. [astropy.wcs.wcs]\n",
      "WARNING: FITSFixedWarning: 'datfix' made the change 'Set MJD-OBS to 53710.000000 from DATE-OBS'. [astropy.wcs.wcs]\n",
      "WARNING: FITSFixedWarning: RADECSYS= 'ICRS ' / International Celestial Ref. System \n",
      "the RADECSYS keyword is deprecated, use RADESYSa. [astropy.wcs.wcs]\n",
      "WARNING: FITSFixedWarning: 'datfix' made the change 'Set MJD-OBS to 53710.000000 from DATE-OBS'. [astropy.wcs.wcs]\n"
     ]
    },
    {
     "ename": "AttributeError",
     "evalue": "'list' object has no attribute 'writeto'",
     "output_type": "error",
     "traceback": [
      "\u001b[1;31m---------------------------------------------------------------------------\u001b[0m",
      "\u001b[1;31mAttributeError\u001b[0m                            Traceback (most recent call last)",
      "Cell \u001b[1;32mIn[118], line 28\u001b[0m\n\u001b[0;32m     26\u001b[0m     \u001b[38;5;28;01mreturn\u001b[39;00m orginal_fits\n\u001b[0;32m     27\u001b[0m a\u001b[38;5;241m=\u001b[39mcut_and_merge_fits(images,\u001b[38;5;241m126.358819\u001b[39m, \u001b[38;5;241m10.752915\u001b[39m,size\u001b[38;5;241m=\u001b[39m\u001b[38;5;241m100\u001b[39m)\n\u001b[1;32m---> 28\u001b[0m \u001b[43ma\u001b[49m\u001b[38;5;241;43m.\u001b[39;49m\u001b[43mwriteto\u001b[49m(\u001b[38;5;124m'\u001b[39m\u001b[38;5;124mcombined.fits\u001b[39m\u001b[38;5;124m'\u001b[39m, overwrite\u001b[38;5;241m=\u001b[39m\u001b[38;5;28;01mTrue\u001b[39;00m)\n",
      "\u001b[1;31mAttributeError\u001b[0m: 'list' object has no attribute 'writeto'"
     ]
    }
   ],
   "source": [
    "def cut_and_merge_fits(orginal_fits,ra,dec,size=100):\n",
    "    for i in range(5):\n",
    "        hdu = orginal_fits[i][0]\n",
    "        wcs = WCS(hdu.header)\n",
    "        data = hdu.data\n",
    "\n",
    "    # 将给定的赤经和赤纬转换为图像坐标\n",
    "        x_center, y_center = wcs.world_to_pixel_values(ra, dec)\n",
    "\n",
    "    # 计算裁剪的边界\n",
    "        x_min = int(x_center - size / 2)\n",
    "        x_max = int(x_center + size / 2)\n",
    "        y_min = int(y_center - size / 2)\n",
    "        y_max = int(y_center + size / 2)\n",
    "\n",
    "    # 裁剪图像\n",
    "        cropped_data = data[y_min:y_max, x_min:x_max]\n",
    "        cropped_wcs = wcs.slice((slice(y_min, y_max), slice(x_min, x_max)))\n",
    "        #hdu_cropped = fits.PrimaryHDU(data=cropped_data, header=cropped_wcs.to_header())\n",
    "        orginal_fits[i][0].data=cropped_data\n",
    "        orginal_fits[i][0].header=cropped_wcs.to_header()\n",
    "\n",
    "\n",
    "\n",
    "\n",
    "    return orginal_fits\n",
    "a=cut_and_merge_fits(images,126.358819, 10.752915,size=100)\n",
    "a.writeto('combined.fits', overwrite=True)"
   ]
  },
  {
   "cell_type": "code",
   "execution_count": 79,
   "id": "2e99ba8e",
   "metadata": {},
   "outputs": [],
   "source": [
    "a=images[0][0]\n",
    "from astropy.io import fits\n",
    "from astropy.wcs import WCS\n",
    "import numpy as np\n",
    "    # 打开FITS文件\n",
    "\n",
    "hdu = a\n",
    "wcs = WCS(hdu.header)\n",
    "data = hdu.data\n",
    "size = 100\n",
    "    # 将给定的赤经和赤纬转换为图像坐标\n",
    "x_center, y_center = wcs.world_to_pixel_values(126.358819, 10.752915)\n",
    "\n",
    "    # 计算裁剪的边界\n",
    "x_min = int(x_center - size / 2)\n",
    "x_max = int(x_center + size / 2)\n",
    "y_min = int(y_center - size / 2)\n",
    "y_max = int(y_center + size / 2)\n",
    "\n",
    "    # 裁剪图像\n",
    "cropped_data = data[y_min:y_max, x_min:x_max]\n",
    "cropped_wcs = wcs.slice((slice(y_min, y_max), slice(x_min, x_max)))\n",
    "    # 创建新的FITS HDU\n",
    "\n",
    "    # 更新WCS信息（可选）\n",
    "hdu_cropped = fits.PrimaryHDU(data=cropped_data, header=cropped_wcs.to_header())\n",
    "\n",
    "    # 保存为新的FITS文件\n",
    "hdu_cropped.writeto(f\"C:\\\\Users\\\\DELL'\\\\Downloads\\\\redGiantImages\\\\cut2.fits\", overwrite=True)"
   ]
  },
  {
   "cell_type": "code",
   "execution_count": 108,
   "id": "9d28b1fc",
   "metadata": {},
   "outputs": [],
   "source": [
    "# 这段代码试图把五个波段的数据存在fits文件里，分开的，还没实现\n",
    "def cut_and_fits(orginal_fits,ra,dec,size=100):\n",
    "    pics=[]\n",
    "    flag=True\n",
    "\n",
    "    for i in range(5):\n",
    "        hdu = orginal_fits[i][0]\n",
    "        wcs = WCS(hdu.header)\n",
    "        data = hdu.data\n",
    "\n",
    "    # 将给定的赤经和赤纬转换为图像坐标\n",
    "        x_center, y_center = wcs.world_to_pixel_values(ra, dec)\n",
    "\n",
    "    # 计算裁剪的边界\n",
    "        x_min = int(x_center - size / 2)\n",
    "        x_max = int(x_center + size / 2)\n",
    "        y_min = int(y_center - size / 2)\n",
    "        y_max = int(y_center + size / 2)\n",
    "\n",
    "    # 裁剪图像\n",
    "        cropped_data = data[y_min:y_max, x_min:x_max]\n",
    "        pics.append(cropped_data)\n",
    "\n",
    "        cropped_wcs = wcs.slice((slice(y_min, y_max), slice(x_min, x_max)))\n",
    "        hdu_cropped = fits.PrimaryHDU(data=cropped_data, header=cropped_wcs.to_header())\n",
    "        pics.append(hdu_cropped)\n",
    "    # 更新WCS信息\n",
    "    hdul = fits.HDUList(pics)\n",
    "    hdul.writeto('merged_image.fits', overwrite=True)\n",
    "    return hdul"
   ]
  },
  {
   "cell_type": "code",
   "execution_count": 95,
   "id": "a63ae8bd",
   "metadata": {},
   "outputs": [
    {
     "ename": "TypeError",
     "evalue": "data object array(<astropy.io.fits.hdu.image.PrimaryHDU object at 0x00000243BAFBE5C0>,\n      dtype=object) should have at least one dimension",
     "output_type": "error",
     "traceback": [
      "\u001b[1;31m---------------------------------------------------------------------------\u001b[0m",
      "\u001b[1;31mTypeError\u001b[0m                                 Traceback (most recent call last)",
      "Cell \u001b[1;32mIn[95], line 6\u001b[0m\n\u001b[0;32m      4\u001b[0m hdu_list \u001b[38;5;241m=\u001b[39m []\n\u001b[0;32m      5\u001b[0m \u001b[38;5;28;01mfor\u001b[39;00m i, image \u001b[38;5;129;01min\u001b[39;00m \u001b[38;5;28menumerate\u001b[39m(images):\n\u001b[1;32m----> 6\u001b[0m     hdu \u001b[38;5;241m=\u001b[39m \u001b[43mfits\u001b[49m\u001b[38;5;241;43m.\u001b[39;49m\u001b[43mPrimaryHDU\u001b[49m\u001b[43m(\u001b[49m\u001b[43mimage\u001b[49m\u001b[43m)\u001b[49m\n\u001b[0;32m      7\u001b[0m     hdu\u001b[38;5;241m.\u001b[39mheader[\u001b[38;5;124m'\u001b[39m\u001b[38;5;124mBAND\u001b[39m\u001b[38;5;124m'\u001b[39m] \u001b[38;5;241m=\u001b[39m i \u001b[38;5;241m+\u001b[39m \u001b[38;5;241m1\u001b[39m  \u001b[38;5;66;03m# 添加波段信息\u001b[39;00m\n\u001b[0;32m      8\u001b[0m     hdu_list\u001b[38;5;241m.\u001b[39mappend(hdu)\n",
      "File \u001b[1;32m~\\.conda\\envs\\test\\lib\\site-packages\\astropy\\io\\fits\\hdu\\image.py:1123\u001b[0m, in \u001b[0;36mPrimaryHDU.__init__\u001b[1;34m(self, data, header, do_not_scale_image_data, ignore_blank, uint, scale_back)\u001b[0m\n\u001b[0;32m   1077\u001b[0m \u001b[38;5;28;01mdef\u001b[39;00m \u001b[38;5;21m__init__\u001b[39m(\n\u001b[0;32m   1078\u001b[0m     \u001b[38;5;28mself\u001b[39m,\n\u001b[0;32m   1079\u001b[0m     data\u001b[38;5;241m=\u001b[39m\u001b[38;5;28;01mNone\u001b[39;00m,\n\u001b[1;32m   (...)\u001b[0m\n\u001b[0;32m   1084\u001b[0m     scale_back\u001b[38;5;241m=\u001b[39m\u001b[38;5;28;01mNone\u001b[39;00m,\n\u001b[0;32m   1085\u001b[0m ):\n\u001b[0;32m   1086\u001b[0m \u001b[38;5;250m    \u001b[39m\u001b[38;5;124;03m\"\"\"\u001b[39;00m\n\u001b[0;32m   1087\u001b[0m \u001b[38;5;124;03m    Construct a primary HDU.\u001b[39;00m\n\u001b[0;32m   1088\u001b[0m \n\u001b[1;32m   (...)\u001b[0m\n\u001b[0;32m   1121\u001b[0m \u001b[38;5;124;03m        (default: None)\u001b[39;00m\n\u001b[0;32m   1122\u001b[0m \u001b[38;5;124;03m    \"\"\"\u001b[39;00m\n\u001b[1;32m-> 1123\u001b[0m     \u001b[38;5;28;43msuper\u001b[39;49m\u001b[43m(\u001b[49m\u001b[43m)\u001b[49m\u001b[38;5;241;43m.\u001b[39;49m\u001b[38;5;21;43m__init__\u001b[39;49m\u001b[43m(\u001b[49m\n\u001b[0;32m   1124\u001b[0m \u001b[43m        \u001b[49m\u001b[43mdata\u001b[49m\u001b[38;5;241;43m=\u001b[39;49m\u001b[43mdata\u001b[49m\u001b[43m,\u001b[49m\n\u001b[0;32m   1125\u001b[0m \u001b[43m        \u001b[49m\u001b[43mheader\u001b[49m\u001b[38;5;241;43m=\u001b[39;49m\u001b[43mheader\u001b[49m\u001b[43m,\u001b[49m\n\u001b[0;32m   1126\u001b[0m \u001b[43m        \u001b[49m\u001b[43mdo_not_scale_image_data\u001b[49m\u001b[38;5;241;43m=\u001b[39;49m\u001b[43mdo_not_scale_image_data\u001b[49m\u001b[43m,\u001b[49m\n\u001b[0;32m   1127\u001b[0m \u001b[43m        \u001b[49m\u001b[43muint\u001b[49m\u001b[38;5;241;43m=\u001b[39;49m\u001b[43muint\u001b[49m\u001b[43m,\u001b[49m\n\u001b[0;32m   1128\u001b[0m \u001b[43m        \u001b[49m\u001b[43mignore_blank\u001b[49m\u001b[38;5;241;43m=\u001b[39;49m\u001b[43mignore_blank\u001b[49m\u001b[43m,\u001b[49m\n\u001b[0;32m   1129\u001b[0m \u001b[43m        \u001b[49m\u001b[43mscale_back\u001b[49m\u001b[38;5;241;43m=\u001b[39;49m\u001b[43mscale_back\u001b[49m\u001b[43m,\u001b[49m\n\u001b[0;32m   1130\u001b[0m \u001b[43m    \u001b[49m\u001b[43m)\u001b[49m\n\u001b[0;32m   1132\u001b[0m     \u001b[38;5;66;03m# insert the keywords EXTEND\u001b[39;00m\n\u001b[0;32m   1133\u001b[0m     \u001b[38;5;28;01mif\u001b[39;00m header \u001b[38;5;129;01mis\u001b[39;00m \u001b[38;5;28;01mNone\u001b[39;00m:\n",
      "File \u001b[1;32m~\\.conda\\envs\\test\\lib\\site-packages\\astropy\\io\\fits\\hdu\\image.py:155\u001b[0m, in \u001b[0;36m_ImageBaseHDU.__init__\u001b[1;34m(self, data, header, do_not_scale_image_data, uint, scale_back, ignore_blank, **kwargs)\u001b[0m\n\u001b[0;32m    150\u001b[0m     \u001b[38;5;28;01mreturn\u001b[39;00m\n\u001b[0;32m    151\u001b[0m \u001b[38;5;28;01melse\u001b[39;00m:\n\u001b[0;32m    152\u001b[0m     \u001b[38;5;66;03m# Setting data will update the header and set _bitpix, _bzero,\u001b[39;00m\n\u001b[0;32m    153\u001b[0m     \u001b[38;5;66;03m# and _bscale to the appropriate BITPIX for the data, and always\u001b[39;00m\n\u001b[0;32m    154\u001b[0m     \u001b[38;5;66;03m# sets _bzero=0 and _bscale=1.\u001b[39;00m\n\u001b[1;32m--> 155\u001b[0m     \u001b[38;5;28mself\u001b[39m\u001b[38;5;241m.\u001b[39mdata \u001b[38;5;241m=\u001b[39m data\n\u001b[0;32m    157\u001b[0m     \u001b[38;5;66;03m# Check again for BITPIX/BSCALE/BZERO in case they changed when the\u001b[39;00m\n\u001b[0;32m    158\u001b[0m     \u001b[38;5;66;03m# data was assigned. This can happen, for example, if the input\u001b[39;00m\n\u001b[0;32m    159\u001b[0m     \u001b[38;5;66;03m# data is an unsigned int numpy array.\u001b[39;00m\n\u001b[0;32m    160\u001b[0m     \u001b[38;5;28mself\u001b[39m\u001b[38;5;241m.\u001b[39m_bitpix \u001b[38;5;241m=\u001b[39m \u001b[38;5;28mself\u001b[39m\u001b[38;5;241m.\u001b[39m_header\u001b[38;5;241m.\u001b[39mget(\u001b[38;5;124m\"\u001b[39m\u001b[38;5;124mBITPIX\u001b[39m\u001b[38;5;124m\"\u001b[39m)\n",
      "File \u001b[1;32m~\\.conda\\envs\\test\\lib\\site-packages\\astropy\\utils\\decorators.py:847\u001b[0m, in \u001b[0;36mlazyproperty.__set__\u001b[1;34m(self, obj, val)\u001b[0m\n\u001b[0;32m    845\u001b[0m obj_dict \u001b[38;5;241m=\u001b[39m obj\u001b[38;5;241m.\u001b[39m\u001b[38;5;18m__dict__\u001b[39m\n\u001b[0;32m    846\u001b[0m \u001b[38;5;28;01mif\u001b[39;00m \u001b[38;5;28mself\u001b[39m\u001b[38;5;241m.\u001b[39mfset:\n\u001b[1;32m--> 847\u001b[0m     ret \u001b[38;5;241m=\u001b[39m \u001b[38;5;28;43mself\u001b[39;49m\u001b[38;5;241;43m.\u001b[39;49m\u001b[43mfset\u001b[49m\u001b[43m(\u001b[49m\u001b[43mobj\u001b[49m\u001b[43m,\u001b[49m\u001b[43m \u001b[49m\u001b[43mval\u001b[49m\u001b[43m)\u001b[49m\n\u001b[0;32m    848\u001b[0m     \u001b[38;5;28;01mif\u001b[39;00m ret \u001b[38;5;129;01mis\u001b[39;00m \u001b[38;5;129;01mnot\u001b[39;00m \u001b[38;5;28;01mNone\u001b[39;00m \u001b[38;5;129;01mand\u001b[39;00m obj_dict\u001b[38;5;241m.\u001b[39mget(\u001b[38;5;28mself\u001b[39m\u001b[38;5;241m.\u001b[39m_key) \u001b[38;5;129;01mis\u001b[39;00m ret:\n\u001b[0;32m    849\u001b[0m         \u001b[38;5;66;03m# By returning the value set the setter signals that it\u001b[39;00m\n\u001b[0;32m    850\u001b[0m         \u001b[38;5;66;03m# took over setting the value in obj.__dict__; this\u001b[39;00m\n\u001b[0;32m    851\u001b[0m         \u001b[38;5;66;03m# mechanism allows it to override the input value\u001b[39;00m\n\u001b[0;32m    852\u001b[0m         \u001b[38;5;28;01mreturn\u001b[39;00m\n",
      "File \u001b[1;32m~\\.conda\\envs\\test\\lib\\site-packages\\astropy\\io\\fits\\hdu\\image.py:279\u001b[0m, in \u001b[0;36m_ImageBaseHDU.data\u001b[1;34m(self, data)\u001b[0m\n\u001b[0;32m    274\u001b[0m             \u001b[38;5;28;01mraise\u001b[39;00m \u001b[38;5;167;01mTypeError\u001b[39;00m(\n\u001b[0;32m    275\u001b[0m                 \u001b[38;5;124mf\u001b[39m\u001b[38;5;124m\"\u001b[39m\u001b[38;5;124mdata object \u001b[39m\u001b[38;5;132;01m{\u001b[39;00mdata\u001b[38;5;132;01m!r}\u001b[39;00m\u001b[38;5;124m could not be coerced into an ndarray\u001b[39m\u001b[38;5;124m\"\u001b[39m\n\u001b[0;32m    276\u001b[0m             )\n\u001b[0;32m    278\u001b[0m     \u001b[38;5;28;01mif\u001b[39;00m data\u001b[38;5;241m.\u001b[39mshape \u001b[38;5;241m==\u001b[39m ():\n\u001b[1;32m--> 279\u001b[0m         \u001b[38;5;28;01mraise\u001b[39;00m \u001b[38;5;167;01mTypeError\u001b[39;00m(\n\u001b[0;32m    280\u001b[0m             \u001b[38;5;124mf\u001b[39m\u001b[38;5;124m\"\u001b[39m\u001b[38;5;124mdata object \u001b[39m\u001b[38;5;132;01m{\u001b[39;00mdata\u001b[38;5;132;01m!r}\u001b[39;00m\u001b[38;5;124m should have at least one dimension\u001b[39m\u001b[38;5;124m\"\u001b[39m\n\u001b[0;32m    281\u001b[0m         )\n\u001b[0;32m    283\u001b[0m \u001b[38;5;28mself\u001b[39m\u001b[38;5;241m.\u001b[39m\u001b[38;5;18m__dict__\u001b[39m[\u001b[38;5;124m\"\u001b[39m\u001b[38;5;124mdata\u001b[39m\u001b[38;5;124m\"\u001b[39m] \u001b[38;5;241m=\u001b[39m data\n\u001b[0;32m    284\u001b[0m \u001b[38;5;28mself\u001b[39m\u001b[38;5;241m.\u001b[39m_modified \u001b[38;5;241m=\u001b[39m \u001b[38;5;28;01mTrue\u001b[39;00m\n",
      "\u001b[1;31mTypeError\u001b[0m: data object array(<astropy.io.fits.hdu.image.PrimaryHDU object at 0x00000243BAFBE5C0>,\n      dtype=object) should have at least one dimension"
     ]
    }
   ],
   "source": [
    "# 假设您有五个FITS文件的路径\n",
    "images = [images[0][0], images[1][0], images[2][0], images[3][0], images[4][0]]\n",
    "\n",
    "hdu_list = []\n",
    "for i, image in enumerate(images):\n",
    "    hdu = fits.PrimaryHDU(image)\n",
    "    hdu.header['BAND'] = i + 1  # 添加波段信息\n",
    "    hdu_list.append(hdu)\n",
    "\n",
    "# 创建一个新的 FITS 文件\n",
    "hdul = fits.HDUList(hdu_list)\n",
    "hdul.writeto('merged_image.fits', overwrite=True)\n",
    "# 写入到一个新的FITS文件中\n",
    "#hdu.writeto('combined.fits', overwrite=True)"
   ]
  },
  {
   "cell_type": "code",
   "execution_count": 19,
   "id": "ef803521",
   "metadata": {},
   "outputs": [],
   "source": [
    "# 这段用来把fits文件裁剪成指定的大小，是用来选取模型输入大小做的\n",
    "from astropy.io import fits\n",
    "import numpy as np\n",
    "import os\n",
    "source_folder=\"C:\\\\Users\\\\DELL'\\\\Downloads\\\\final_cross_validation_data\\\\test\\\\input\\\\\"\n",
    "destination_folder=\"C:\\\\Users\\\\DELL'\\\\Downloads\\\\pic96\\\\\"\n",
    "os.makedirs(destination_folder, exist_ok=True)\n",
    "orginalSize=100\n",
    "targetSize=96\n",
    "cut=(orginalSize-targetSize)//2\n",
    "for filename in os.listdir(source_folder):\n",
    "    if filename.endswith('.fits'):\n",
    "        # 构建完整文件路径\n",
    "        \n",
    "        file_path = os.path.join(source_folder, filename)\n",
    "        hdu=fits.open(file_path)\n",
    "        data =  hdu[0].data.astype(np.float32)\n",
    "        processed_data = data[:,cut:orginalSize-cut, cut:orginalSize-cut]\n",
    "        hdu_cropped = fits.PrimaryHDU(data=processed_data)\n",
    "            \n",
    "            # 保存到BB文件夹\n",
    "        new_file_path = os.path.join(destination_folder, filename)\n",
    "        hdu_cropped.writeto(new_file_path, overwrite=True)\n",
    "        hdu.close()\n",
    "\n",
    "\n"
   ]
  },
  {
   "cell_type": "code",
   "execution_count": 2,
   "id": "9eb562da",
   "metadata": {
    "scrolled": false
   },
   "outputs": [],
   "source": [
    "# 这段是为了算红移值写的\n",
    "import pandas as pd\n",
    "aa = pd.read_csv('DR11中所有的在权威星表里的有图片的10信噪比无重复红巨星.csv')\n",
    "bb=pd.read_csv('归一化后的文件.csv')\n",
    "merged = pd.merge(aa, bb, left_on='obsid', right_on='obsid', how='right')\n",
    "result = merged[['obsid','Teff', 'log(g)','[M/H]','Mass','Radius','z']]\n",
    "result.to_csv('红移.csv', index=False)"
   ]
  },
  {
   "cell_type": "code",
   "execution_count": 7,
   "id": "18bca3b9",
   "metadata": {},
   "outputs": [],
   "source": [
    "# 这段代码把光谱红移矫正\n",
    "import numpy as np\n",
    "from scipy.interpolate import splrep, splev\n",
    "import pandas as pd\n",
    "infolder='LowResSpectrum\\\\'\n",
    "output_folder = 'noredshiftcutLowResSpectrum\\\\'\n",
    "df = pd.read_csv('红移.csv',dtype=str)\n",
    "for i in range(len(df[\"obsid\"])):\n",
    "    spec=pd.read_csv(infolder+df[\"obsid\"][i]+\".csv\",dtype=float)\n",
    "    Wavelength=spec[\"Wavelength\"].to_numpy()\n",
    "    Flux=spec[\"Flux\"].to_numpy()\n",
    "    noRedshiftWaveLength=Wavelength/(1+float(df[\"z\"][i]))\n",
    "    tck = splrep(noRedshiftWaveLength, Flux)\n",
    " \n",
    "    # 插值点\n",
    "    x_new = np.linspace(3710, 8709, 5000)\n",
    "\n",
    "    # 计算插值点的值\n",
    "    y_new = splev(x_new, tck)\n",
    "    y_new=(y_new-np.mean(y_new))/np.std(y_new)\n",
    "    temp = pd.DataFrame(y_new)\n",
    "    temp.to_csv(output_folder+df[\"obsid\"][i]+\".csv\", index=False, header=False) \n",
    "    "
   ]
  },
  {
   "cell_type": "code",
   "execution_count": null,
   "id": "0d6f7954",
   "metadata": {},
   "outputs": [],
   "source": [
    "import numpy as np\n",
    "from scipy.interpolate import splrep, splev\n",
    "import random\n",
    "def randRedShift(waveLength,Lux,z):\n",
    "    randZ=random.random()\n",
    "    waveLength=waveLength*(1+randZ)/(1+z)\n",
    "    tck = splrep(waveLength, Flux)\n",
    "    x_new = np.linspace(3710, 8709, 5000)\n",
    "    y_new = splev(x_new, tck)\n",
    "    y_new=(y_new-np.mean(y_new))/np.std(y_new)\n",
    "    return y_new"
   ]
  },
  {
   "cell_type": "code",
   "execution_count": 27,
   "id": "452de7ec",
   "metadata": {},
   "outputs": [
    {
     "data": {
      "image/png": "[encoded data removed]",
      "text/plain": [
       "<Figure size 640x480 with 1 Axes>"
      ]
     },
     "metadata": {
      "needs_background": "light"
     },
     "output_type": "display_data"
    }
   ],
   "source": [
    "# 这段代码是写论文画图用的\n",
    "from PIL import Image\n",
    "from astroquery.sdss import SDSS\n",
    "from astropy import coordinates as coords\n",
    "import astropy.units as u\n",
    "import pandas as pd\n",
    "from astropy.io import fits\n",
    "from astropy.wcs import WCS\n",
    "import numpy as np\n",
    "import time\n",
    "import matplotlib.pyplot as plt\n",
    "#这个函数用来把过小的灰度图填充到100*100\n",
    "\n",
    "# 这个函数可以把一个输入的fits图像（注意只有图像，不是包含其他部分的fits）裁剪成以给定的赤经赤纬为中心的更小的正方形图片\n",
    "# def cut_fits(orginal_pic,ra,dec,size=100):\n",
    "    \n",
    "    \n",
    "#     hdu = orginal_pic\n",
    "#     wcs = WCS(hdu.header)\n",
    "#     data = hdu.data\n",
    "\n",
    "#     # 将给定的赤经和赤纬转换为图像坐标\n",
    "#     x_center, y_center = wcs.world_to_pixel_values(ra, dec)\n",
    "\n",
    "#     # 计算裁剪的边界\n",
    "#     x_min = int(x_center - size / 2)\n",
    "#     x_max = int(x_center + size / 2)\n",
    "#     y_min = int(y_center - size / 2)\n",
    "#     y_max = int(y_center + size / 2)\n",
    "\n",
    "#     # 裁剪图像\n",
    "#     cropped_data = data[y_min:y_max, x_min:x_max]\n",
    "#     # 更新WCS信息\n",
    "#     cropped_wcs = wcs.slice((slice(y_min, y_max), slice(x_min, x_max)))\n",
    "#     hdu_cropped = fits.PrimaryHDU(data=cropped_data, header=cropped_wcs.to_header())\n",
    "#     return hdu_cropped\n",
    "# 这个函数可以把一个输入的有五个波段的fits文件裁剪并合并成一个fits文件\n",
    "hdu=fits.open(\"C:\\\\Users\\DELL'\\\\Downloads\\\\pic24\\\\19506124.fits\")#45204028\n",
    "data =  hdu[0].data.astype(np.float32)\n",
    "fig, ax = plt.subplots()\n",
    "heatmap = ax.imshow(data[3], cmap='gnuplot')\n",
    " \n",
    "# 为热力图增加颜色条标记\n",
    "# fig.colorbar(heatmap)\n",
    "plt.axis('off')\n",
    "# plt.title('z')\n",
    "fig.patch.set_alpha(0.0) \n",
    "fig.savefig('i0.svg', format='svg')\n",
    "plt.show() "
   ]
  },
  {
   "cell_type": "code",
   "execution_count": 97,
   "id": "c36d8972",
   "metadata": {},
   "outputs": [
    {
     "data": {
      "image/png": "[encoded data removed]",
      "text/plain": [
       "<Figure size 640x480 with 1 Axes>"
      ]
     },
     "metadata": {
      "needs_background": "light"
     },
     "output_type": "display_data"
    }
   ],
   "source": [
    "\n",
    "from PIL import Image\n",
    "from astroquery.sdss import SDSS\n",
    "from astropy import coordinates as coords\n",
    "import astropy.units as u\n",
    "import pandas as pd\n",
    "from astropy.io import fits\n",
    "from astropy.wcs import WCS\n",
    "import numpy as np\n",
    "import time\n",
    "import matplotlib.pyplot as plt\n",
    "from matplotlib.colors import LinearSegmentedColormap\n",
    "\n",
    "# 自定义从黑色到绿色的 colormap\n",
    "colors = [(0, 0, 0), (0, 243/255, 1)]  # 黑色到绿色\n",
    "custom_cmap = LinearSegmentedColormap.from_list(\"black_to_green\", colors)\n",
    "hdu=fits.open(\"C:\\\\Users\\DELL'\\\\Downloads\\\\pic24\\\\19506124.fits\")#45204028\n",
    "data =  hdu[0].data.astype(np.float32)\n",
    "fig, ax = plt.subplots()\n",
    "heatmap = ax.imshow(data[1], cmap=\"gray\")\n",
    " \n",
    "# 为热力图增加颜色条标记\n",
    "# fig.colorbar(heatmap)\n",
    "plt.axis('off')\n",
    "# plt.title('z')\n",
    "fig.patch.set_alpha(0.0) \n",
    "fig.savefig('3Dg.svg', format='svg')\n",
    "plt.show() "
   ]
  },
  {
   "cell_type": "code",
   "execution_count": 41,
   "id": "cdf33bc6",
   "metadata": {},
   "outputs": [
    {
     "data": {
      "image/png": "[encoded data removed]",
      "text/plain": [
       "<Figure size 900x300 with 1 Axes>"
      ]
     },
     "metadata": {},
     "output_type": "display_data"
    }
   ],
   "source": [
    "import pandas as pd\n",
    "import matplotlib.pyplot as plt\n",
    "\n",
    "# 假设你的 CSV 文件为 'data.csv'，读取数据\n",
    "# CSV 文件应包含两列：第一列为自变量（如 x），第二列为因变量（如 y）\n",
    "data = pd.read_csv(\"C:\\\\Users\\DELL'\\\\Downloads\\\\Spectrum\\\\19506124.csv\")\n",
    "\n",
    "# 确保数据按自变量递增排序\n",
    "data = data.sort_values(by=data.columns[0])\n",
    "\n",
    "# 绘制折线图\n",
    "plt.figure(figsize=(9, 3))  # 调整图像尺寸为“高瘦”状，宽度为 4，高度为 8\n",
    "plt.plot(data.iloc[11:3809, 0], data.iloc[11:3809, 1], color='blue', linewidth=0.2)\n",
    "\n",
    "# 去掉坐标轴\n",
    "# plt.axis('off')\n",
    "\n",
    "# # 边框\n",
    "plt.gca().set_frame_on(True)\n",
    "plt.gca().tick_params(left=False, bottom=False, labelleft=False, labelbottom=False)\n",
    "\n",
    "# 保留外框\n",
    "# plt.gca().spines['top'].set_visible(True)\n",
    "# plt.gca().spines['right'].set_visible(True)\n",
    "# plt.gca().spines['left'].set_visible(True)\n",
    "# plt.gca().spines['bottom'].set_visible(True)\n",
    "\n",
    "# 设置显示比例\n",
    "plt.tight_layout()\n",
    "\n",
    "# 保存或显示图片\n",
    "# plt.savefig('spec.svg', format='svg')\n",
    "# plt.savefig('line_plot.png', bbox_inches='tight', dpi=300)  # 保存为图片\n",
    "plt.show()  # 显示图片"
   ]
  },
  {
   "cell_type": "code",
   "execution_count": 105,
   "id": "0f386989",
   "metadata": {},
   "outputs": [
    {
     "data": {
      "image/png": "[encoded data removed]",
      "text/plain": [
       "<Figure size 900x300 with 1 Axes>"
      ]
     },
     "metadata": {},
     "output_type": "display_data"
    }
   ],
   "source": [
    "import numpy as np\n",
    "import pandas as pd\n",
    "import matplotlib.pyplot as plt\n",
    "from matplotlib.collections import LineCollection\n",
    "from matplotlib.colors import ListedColormap, BoundaryNorm\n",
    "\n",
    "# 生成示例数据\n",
    "\n",
    "data = pd.read_csv(\"C:\\\\Users\\DELL'\\\\Downloads\\\\Spectrum\\\\19506124.csv\")\n",
    "\n",
    "# 确保数据按自变量递增排序\n",
    "data = data.sort_values(by=data.columns[0])\n",
    "x=data.iloc[11:3809, 0]\n",
    "y=data.iloc[11:3809, 1]\n",
    "# 绘制折线图\n",
    "  # 调整图像尺寸为“高瘦”状，宽度为 4，高度为 8\n",
    "\n",
    "# 创建渐变颜色\n",
    "points = np.array([x, y]).T.reshape(-1, 1, 2)\n",
    "segments = np.concatenate([points[:-1], points[1:]], axis=1)\n",
    "\n",
    "# 创建颜色映射（可以自定义 colormap）\n",
    "cmap = plt.get_cmap('gist_rainbow_r')  # 使用 'viridis' 渐变颜色方案\n",
    "norm = plt.Normalize(x.min(), x.max())  # 根据 X 坐标的范围归一化颜色\n",
    "\n",
    "# 创建渐变的折线\n",
    "lc = LineCollection(segments, cmap=cmap, norm=norm)\n",
    "lc.set_array(x)  # 将 X 坐标映射到颜色\n",
    "lc.set_linewidth(0.4)  # 设置线条宽度\n",
    "\n",
    "# 创建图表\n",
    "fig, ax = plt.subplots(figsize=(9, 3))\n",
    "ax.add_collection(lc)  # 添加渐变线条到图表\n",
    "# ax.autoscale()  # 自动调整坐标轴范围\n",
    "ax.set_xlim(x.min(), x.max())  # 设置 X 轴范围\n",
    "ax.set_ylim(y.min(), y.max())  # 设置 Y 轴范围\n",
    "\n",
    "# plt.axis('off')\n",
    "plt.gca().set_frame_on(True)\n",
    "plt.gca().tick_params(left=False, bottom=False, labelleft=False, labelbottom=False)\n",
    "# 添加颜色条\n",
    "# cbar = plt.colorbar(lc, ax=ax)\n",
    "# cbar.set_label('X Coordinate')\n",
    "\n",
    "# 显示图表\n",
    "plt.savefig('rainbowspec.svg', format='svg')\n",
    "plt.show()\n"
   ]
  },
  {
   "cell_type": "code",
   "execution_count": 103,
   "id": "5ad00596",
   "metadata": {},
   "outputs": [
    {
     "data": {
      "image/png": "[encoded data removed]",
      "text/plain": [
       "<Figure size 600x400 with 1 Axes>"
      ]
     },
     "metadata": {},
     "output_type": "display_data"
    }
   ],
   "source": [
    "import matplotlib.pyplot as plt\n",
    "import numpy as np\n",
    "import matplotlib.colors as mcolors\n",
    "\n",
    "# 创建数据\n",
    "\n",
    "\n",
    "# 创建渐变颜色\n",
    "# cmap = plt.get_cmap('gist_rainbow_r')  # 使用 matplotlib 内置的 colormap，例如 'viridis'\n",
    "gradient = np.linspace(0, 1, 500).reshape(1, -1)  # 1 行，500 列\n",
    "gradient = np.vstack([gradient] * 500)  # 将这一行复制 500 次，形成一个矩形\n",
    "\n",
    "# 创建图形\n",
    "fig, ax = plt.subplots(figsize=(6, 4))  # 可以调整 figsize 改变图大小\n",
    "\n",
    "# 使用 imshow 绘制渐变矩形\n",
    "# cmap 指定颜色映射，比如 'viridis', 'plasma', 'inferno', 或者其他 colormap\n",
    "ax.imshow(gradient, aspect='auto', cmap='gist_rainbow_r', interpolation='nearest')\n",
    "plt.axis('off')\n",
    "plt.savefig('rainbow.svg', format='svg')\n",
    "# 显示图形\n",
    "plt.show()"
   ]
  },
  {
   "cell_type": "code",
   "execution_count": 78,
   "id": "62bb12e2",
   "metadata": {},
   "outputs": [
    {
     "name": "stdout",
     "output_type": "stream",
     "text": [
      "图片已保存到 output.jpg\n"
     ]
    }
   ],
   "source": [
    "# 这个代码是用来展示图片打乱的\n",
    "from PIL import Image\n",
    "import random\n",
    "\n",
    "def split_and_shuffle_image(image_path, output_path, rows=6, cols=6):\n",
    "    # 打开图片\n",
    "    img = Image.open(image_path)\n",
    "    img_width, img_height = img.size\n",
    "\n",
    "    # 计算每块的宽度和高度\n",
    "    block_width = img_width // cols\n",
    "    block_height = img_height // rows\n",
    "\n",
    "    # 分割图片为若干块\n",
    "    blocks = []\n",
    "    for row in range(rows):\n",
    "        for col in range(cols):\n",
    "            left = col * block_width\n",
    "            upper = row * block_height\n",
    "            right = left + block_width\n",
    "            lower = upper + block_height\n",
    "            block = img.crop((left, upper, right, lower))\n",
    "            blocks.append(block)\n",
    "\n",
    "    # 打乱这些块的顺序\n",
    "    random.shuffle(blocks)\n",
    "\n",
    "    # 创建一个新的图片用于拼接\n",
    "    shuffled_img = Image.new(\"RGB\", (img_width, img_height))\n",
    "\n",
    "    # 将打乱的块重新排列\n",
    "    for row in range(rows):\n",
    "        for col in range(cols):\n",
    "            block = blocks.pop(0)\n",
    "            left = col * block_width\n",
    "            upper = row * block_height\n",
    "            shuffled_img.paste(block, (left, upper))\n",
    "\n",
    "    # 保存新图片\n",
    "    shuffled_img.save(output_path)\n",
    "    print(f\"图片已保存到 {output_path}\")\n",
    "\n",
    "# 使用示例\n",
    "# 输入图片路径和输出图片路径\n",
    "input_image_path = \"cat.jpg\"  # 替换为你的图片路径\n",
    "output_image_path = \"output.jpg\"  # 替换为输出图片路径\n",
    "\n",
    "# 调用函数\n",
    "split_and_shuffle_image(input_image_path, output_image_path)"
   ]
  },
  {
   "cell_type": "code",
   "execution_count": 1,
   "id": "fb3b16fd",
   "metadata": {},
   "outputs": [
    {
     "data": {
      "image/png": "[encoded data removed]",
      "text/plain": [
       "<Figure size 1200x600 with 1 Axes>"
      ]
     },
     "metadata": {},
     "output_type": "display_data"
    }
   ],
   "source": [
    "import numpy as np\n",
    "import matplotlib.pyplot as plt\n",
    "data = np.loadtxt('制表用临时文件.csv', delimiter=',')\n",
    "\n",
    "x = data[:,0]\n",
    "y = data[:,1]\n",
    "# plt.axis([8, 100, 0.05, 0.09])\n",
    "# ax=plt.gca()\n",
    "fig = plt.figure(figsize=(12, 6))\n",
    "plt.scatter(x, y, color='#8DD3C7',marker=\"*\")\n",
    "plt.plot(x, y, color='#8DD3C7', label='Teff', linewidth=1)\n",
    "y = data[:,2]\n",
    "plt.scatter(x, y,color='#FDB462',marker=\"*\")\n",
    "plt.plot(x, y, color='#FDB462', label='Log g', linewidth=1)\n",
    "y = data[:,3]\n",
    "plt.scatter(x, y,color='#BEBABA',marker=\"*\")\n",
    "plt.plot(x, y, color='#BEBABA', label='[M/H]', linewidth=1)\n",
    "y = data[:,4]\n",
    "plt.scatter(x, y,color='#B3DD69',marker=\"*\")\n",
    "plt.plot(x, y, color='#B3DD69', label='Mass', linewidth=1)\n",
    "y = data[:,5]\n",
    "plt.scatter(x, y,color='#80B1D3',marker=\"*\")\n",
    "plt.plot(x, y, color='#80B1D3', label='Radius', linewidth=1)\n",
    "y = data[:,6]\n",
    "plt.scatter(x, y,color='red',marker=\"*\")\n",
    "plt.plot(x, y, color='red', label='Mean', linewidth=1)\n",
    "plt.xticks(x)\n",
    "plt.title('Image Size Experiment')\n",
    "plt.xlabel('Image Size')\n",
    "plt.ylabel('Normalized Error')\n",
    "plt.legend(bbox_to_anchor=(0.75, 0.6),ncol=2)\n",
    "plt.savefig('Image Size Experiment.svg',bbox_inches='tight')"
   ]
  },
  {
   "cell_type": "code",
   "execution_count": 115,
   "id": "25e4985e",
   "metadata": {},
   "outputs": [
    {
     "data": {
      "image/png": "[encoded data removed]",
      "text/plain": [
       "<Figure size 900x600 with 1 Axes>"
      ]
     },
     "metadata": {},
     "output_type": "display_data"
    }
   ],
   "source": [
    "import numpy as np\n",
    "import matplotlib.pyplot as plt\n",
    "data = np.loadtxt('示例光谱.csv', delimiter=',', skiprows=1)\n",
    "# x = data[2004:3070,0]\n",
    "# y = data[2004:3070,1]\n",
    "# x = data[120:1400,0]\n",
    "# y = data[120:1400,1]\n",
    "x = data[:,0]\n",
    "y = data[:,1]\n",
    "plt.figure(figsize=(9, 6)) \n",
    "plt.plot(x, y, color='black', linewidth=1)\n",
    "# plt.gca().set_frame_on(True)\n",
    "# plt.gca().tick_params(left=False, bottom=False, labelleft=False, labelbottom=False)\n",
    "# plt.axis('off')\n",
    "plt.tight_layout()\n",
    "# plt.title('Image Size Experiment')\n",
    "plt.xlabel('Wavelength (Å)')\n",
    "plt.ylabel('Flux')\n",
    "plt.title(\"LAMOST spec-55859-F5902_sp01-008\")\n",
    "# plt.axis([5000, 8800,25,200])\n",
    "plt.savefig('realF.svg',bbox_inches='tight')"
   ]
  },
  {
   "cell_type": "code",
   "execution_count": 116,
   "id": "f1939ea2",
   "metadata": {},
   "outputs": [],
   "source": [
    "from astroquery.sdss import SDSS\n",
    "from astropy import coordinates as coords\n",
    "import astropy.units as u\n",
    "import pandas as pd\n",
    "from astropy.io import fits\n",
    "from astropy.wcs import WCS\n",
    "import numpy as np\n",
    "import time\n",
    " \n",
    "\n",
    "\n",
    "# 读取两个CSV文件\n",
    "\n",
    "    # 创建坐标对象\n",
    "\n",
    "pos = coords.SkyCoord(126.358819, 10.752915, unit=(u.deg, u.deg), frame='icrs')\n",
    "\n",
    "# 从SDSS下载图像\n",
    "xid = SDSS.query_region(pos, radius=1.0/3600 * u.deg, photoobj_fields=['ra', 'dec', 'objid','run','rerun','camcol','field'])\n",
    "\n",
    "images = SDSS.get_images(matches=xid[0:1],radius=1.0/3600 * u.deg, band='u')  # 'g'为波段, 可以是'u', 'g', 'r', 'i', 'z'\n",
    "#     pic=cut_and_merge_fits(images,ra,dec,size=100)\n",
    "\n",
    "    # 裁剪到一个不太大的大小，目前是100*100\n",
    "#         size = 100\n",
    "#         pic=cut_fits(images[0][0],ra,dec,size=100)\n",
    "#         pic.writeto(f\"C:\\\\Users\\\\DELL'\\\\Downloads\\\\redGiantImages\\\\{obsid}_u.fits\", overwrite=True)\n",
    "#         pic=cut_fits(images[1][0],ra,dec,size=100)\n",
    "#         pic.writeto(f\"C:\\\\Users\\\\DELL'\\\\Downloads\\\\redGiantImages\\\\{obsid}_g.fits\", overwrite=True)\n",
    "#         pic=cut_fits(images[2][0],ra,dec,size=100)\n",
    "#         pic.writeto(f\"C:\\\\Users\\\\DELL'\\\\Downloads\\\\redGiantImages\\\\{obsid}_r.fits\", overwrite=True)\n",
    "#         pic=cut_fits(images[3][0],ra,dec,size=100)\n",
    "#         pic.writeto(f\"C:\\\\Users\\\\DELL'\\\\Downloads\\\\redGiantImages\\\\{obsid}_i.fits\", overwrite=True)\n",
    "#         pic=cut_fits(images[4][0],ra,dec,size=100)\n",
    "#         pic.writeto(f\"C:\\\\Users\\\\DELL'\\\\Downloads\\\\redGiantImages\\\\{obsid}_z.fits\", overwrite=True)\n",
    "\n",
    "\n",
    "\n",
    "        "
   ]
  },
  {
   "cell_type": "code",
   "execution_count": 117,
   "id": "a45af577",
   "metadata": {},
   "outputs": [
    {
     "name": "stderr",
     "output_type": "stream",
     "text": [
      "WARNING: FITSFixedWarning: RADECSYS= 'ICRS ' / International Celestial Ref. System \n",
      "the RADECSYS keyword is deprecated, use RADESYSa. [astropy.wcs.wcs]\n",
      "WARNING: FITSFixedWarning: 'datfix' made the change 'Set MJD-OBS to 53710.000000 from DATE-OBS'. [astropy.wcs.wcs]\n"
     ]
    }
   ],
   "source": [
    "hdu = images[0][0]\n",
    "wcs = WCS(hdu.header)\n",
    "data = hdu.data"
   ]
  },
  {
   "cell_type": "code",
   "execution_count": 137,
   "id": "c5b0b779",
   "metadata": {},
   "outputs": [
    {
     "name": "stderr",
     "output_type": "stream",
     "text": [
      "C:\\Users\\DELL'\\.conda\\envs\\test\\lib\\site-packages\\matplotlib\\image.py:505: RuntimeWarning: overflow encountered in multiply\n",
      "  A_resampled *= ((a_max - a_min) / frac)\n"
     ]
    },
    {
     "data": {
      "image/png": "[encoded data removed]",
      "text/plain": [
       "<Figure size 640x480 with 1 Axes>"
      ]
     },
     "metadata": {},
     "output_type": "display_data"
    }
   ],
   "source": [
    "# data =  hdu[0].data.astype(np.float32)\n",
    "fig, ax = plt.subplots()\n",
    "heatmap = ax.imshow(a, cmap=\"gnuplot\")\n",
    " \n",
    "# 为热力图增加颜色条标记\n",
    "# fig.colorbar(heatmap)\n",
    "plt.axis('off')\n",
    "# plt.title('z')\n",
    "# fig.patch.set_alpha(0.0) \n",
    "fig.savefig('ppp.svg', format='svg')\n",
    "plt.show() "
   ]
  },
  {
   "cell_type": "code",
   "execution_count": 136,
   "id": "5bda4696",
   "metadata": {},
   "outputs": [
    {
     "name": "stderr",
     "output_type": "stream",
     "text": [
      "C:\\Users\\DELL'\\AppData\\Local\\Temp\\ipykernel_2848\\3814121668.py:1: RuntimeWarning: overflow encountered in exp\n",
      "  a=np.exp(data*200)\n"
     ]
    }
   ],
   "source": [
    "a=np.exp(data*200)"
   ]
  },
  {
   "cell_type": "code",
   "execution_count": null,
   "id": "3feb0c79",
   "metadata": {},
   "outputs": [],
   "source": []
  }
 ],
 "metadata": {
  "kernelspec": {
   "display_name": "Python 3 (ipykernel)",
   "language": "python",
   "name": "python3"
  },
  "language_info": {
   "codemirror_mode": {
    "name": "ipython",
    "version": 3
   },
   "file_extension": ".py",
   "mimetype": "text/x-python",
   "name": "python",
   "nbconvert_exporter": "python",
   "pygments_lexer": "ipython3",
   "version": "3.10.13"
  }
 },
 "nbformat": 4,
 "nbformat_minor": 5
}
